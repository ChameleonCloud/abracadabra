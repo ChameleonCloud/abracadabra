{
 "cells": [
  {
   "cell_type": "code",
   "execution_count": 4,
   "metadata": {
    "collapsed": true
   },
   "outputs": [],
   "source": [
    "import collections"
   ]
  },
  {
   "cell_type": "code",
   "execution_count": 1,
   "metadata": {
    "collapsed": true
   },
   "outputs": [],
   "source": [
    "from hammers.osapi import Auth, load_osrc\n",
    "from hammers.osrest import glance, keystone"
   ]
  },
  {
   "cell_type": "code",
   "execution_count": 2,
   "metadata": {
    "collapsed": false
   },
   "outputs": [
    {
     "name": "stdout",
     "output_type": "stream",
     "text": [
      "Enter your password: ········\n"
     ]
    }
   ],
   "source": [
    "rc = {\n",
    "    'tacc': load_osrc('../rc/admin-chi.tacc.rc', get_pass=True),\n",
    "    'uc': load_osrc('../rc/admin-chi.uc.rc'),\n",
    "    'kvm': load_osrc('../rc/admin-kvm.tacc.rc'),\n",
    "}\n",
    "rc['uc']['OS_PASSWORD'] = rc['kvm']['OS_PASSWORD'] = rc['tacc']['OS_PASSWORD']\n",
    "auth = {k: Auth(rc[k]) for k in rc}"
   ]
  },
  {
   "cell_type": "code",
   "execution_count": 3,
   "metadata": {
    "collapsed": true
   },
   "outputs": [],
   "source": [
    "BASE_NAME = {\n",
    "    'ubuntu-trusty': 'Ubuntu14.04',\n",
    "    'ubuntu-xenial': 'Ubuntu16.04',\n",
    "    'centos7': 'CentOS7',\n",
    "}"
   ]
  },
  {
   "cell_type": "code",
   "execution_count": 22,
   "metadata": {
    "collapsed": false
   },
   "outputs": [
    {
     "data": {
      "text/plain": [
       "[669, 204, 658]"
      ]
     },
     "execution_count": 22,
     "metadata": {},
     "output_type": "execute_result"
    }
   ],
   "source": [
    "images = {\n",
    "    site: glance.images(auth[site], query={'limit': 1000})\n",
    "    for site \n",
    "    in auth\n",
    "}\n",
    "[len(il) for il in images.values()]"
   ]
  },
  {
   "cell_type": "code",
   "execution_count": 32,
   "metadata": {
    "collapsed": true
   },
   "outputs": [],
   "source": [
    "def matchimages(images, value, key='name'):\n",
    "    for site, imagelist in images.items():\n",
    "        for image in imagelist:\n",
    "            if image.get(key) != value:\n",
    "                continue\n",
    "            yield site, image"
   ]
  },
  {
   "cell_type": "code",
   "execution_count": 33,
   "metadata": {
    "collapsed": false
   },
   "outputs": [
    {
     "data": {
      "text/plain": [
       "[('tacc',\n",
       "  {'checksum': '6b3675d3ec01bfff6b0a2e7346b9c4c2',\n",
       "   'container_format': 'bare',\n",
       "   'created_at': '2016-12-23T17:26:31Z',\n",
       "   'disk_format': 'qcow2',\n",
       "   'file': '/v2/images/fc5ef426-bb94-471d-8875-9a662f6c3c92/file',\n",
       "   'id': 'fc5ef426-bb94-471d-8875-9a662f6c3c92',\n",
       "   'min_disk': 0,\n",
       "   'min_ram': 0,\n",
       "   'name': 'CC-Ubuntu14.04',\n",
       "   'owner': '570aad8999f7499db99eae22fe9b29bb',\n",
       "   'protected': False,\n",
       "   'schema': '/v2/schemas/image',\n",
       "   'self': '/v2/images/fc5ef426-bb94-471d-8875-9a662f6c3c92',\n",
       "   'size': 526712832,\n",
       "   'status': 'active',\n",
       "   'tags': [],\n",
       "   'updated_at': '2016-12-23T20:23:08Z',\n",
       "   'virtual_size': None,\n",
       "   'visibility': 'public'}),\n",
       " ('uc',\n",
       "  {'checksum': '6b3675d3ec01bfff6b0a2e7346b9c4c2',\n",
       "   'container_format': 'bare',\n",
       "   'created_at': '2016-12-23T17:26:06Z',\n",
       "   'disk_format': 'qcow2',\n",
       "   'file': '/v2/images/ad3617e5-99fc-4727-9949-b0107ffc71a6/file',\n",
       "   'id': 'ad3617e5-99fc-4727-9949-b0107ffc71a6',\n",
       "   'min_disk': 0,\n",
       "   'min_ram': 0,\n",
       "   'name': 'CC-Ubuntu14.04',\n",
       "   'owner': 'cdf92cfdf4c5422cb2ead2d8a8ca2ae7',\n",
       "   'protected': False,\n",
       "   'schema': '/v2/schemas/image',\n",
       "   'self': '/v2/images/ad3617e5-99fc-4727-9949-b0107ffc71a6',\n",
       "   'size': 526712832,\n",
       "   'status': 'active',\n",
       "   'tags': [],\n",
       "   'updated_at': '2016-12-23T19:23:16Z',\n",
       "   'virtual_size': None,\n",
       "   'visibility': 'public'}),\n",
       " ('kvm',\n",
       "  {'checksum': '6b3675d3ec01bfff6b0a2e7346b9c4c2',\n",
       "   'container_format': 'bare',\n",
       "   'created_at': '2016-12-23T18:02:51Z',\n",
       "   'disk_format': 'qcow2',\n",
       "   'file': '/v2/images/bf5232fb-648b-4a75-a45d-c1b9fec3a02a/file',\n",
       "   'id': 'bf5232fb-648b-4a75-a45d-c1b9fec3a02a',\n",
       "   'min_disk': 0,\n",
       "   'min_ram': 0,\n",
       "   'name': 'CC-Ubuntu14.04',\n",
       "   'owner': 'openstack',\n",
       "   'protected': False,\n",
       "   'schema': '/v2/schemas/image',\n",
       "   'self': '/v2/images/bf5232fb-648b-4a75-a45d-c1b9fec3a02a',\n",
       "   'size': 526712832,\n",
       "   'status': 'active',\n",
       "   'tags': [],\n",
       "   'updated_at': '2016-12-23T20:15:07Z',\n",
       "   'virtual_size': None,\n",
       "   'visibility': 'public'})]"
      ]
     },
     "execution_count": 33,
     "metadata": {},
     "output_type": "execute_result"
    }
   ],
   "source": [
    "list(matchimages(images, 'CC-Ubuntu14.04'))"
   ]
  },
  {
   "cell_type": "code",
   "execution_count": 34,
   "metadata": {
    "collapsed": false
   },
   "outputs": [
    {
     "data": {
      "text/plain": [
       "[('tacc',\n",
       "  {'build-os': 'ubuntu-trusty',\n",
       "   'build-os-base-image-revision': '20171213',\n",
       "   'build-repo': 'https://github.com/ChameleonCloud/CC-Ubuntu16.04',\n",
       "   'build-repo-commit': 'bcd3c4e6fd30459d65f28b83b911c87964c9c577',\n",
       "   'build-tag': 'jenkins-cc-trusty-builder-7',\n",
       "   'build-variant': 'base',\n",
       "   'checksum': '0fdd52a592400e6479752f6375d3bfc4',\n",
       "   'container_format': 'bare',\n",
       "   'created_at': '2018-01-06T00:49:53Z',\n",
       "   'disk_format': 'qcow2',\n",
       "   'file': '/v2/images/a34d43d5-1f91-4b2c-ad15-cf3e208bccec/file',\n",
       "   'id': 'a34d43d5-1f91-4b2c-ad15-cf3e208bccec',\n",
       "   'min_disk': 0,\n",
       "   'min_ram': 0,\n",
       "   'name': 'image-ubuntu-trusty-jenkins-cc-trusty-builder-7',\n",
       "   'owner': '570aad8999f7499db99eae22fe9b29bb',\n",
       "   'protected': False,\n",
       "   'schema': '/v2/schemas/image',\n",
       "   'self': '/v2/images/a34d43d5-1f91-4b2c-ad15-cf3e208bccec',\n",
       "   'size': 526903808,\n",
       "   'status': 'active',\n",
       "   'tags': [],\n",
       "   'updated_at': '2018-01-06T00:52:18Z',\n",
       "   'virtual_size': None,\n",
       "   'visibility': 'public'}),\n",
       " ('tacc',\n",
       "  {'build-os': 'ubuntu-trusty',\n",
       "   'build-os-base-image-revision': '20171205',\n",
       "   'build-repo': 'https://github.com/ChameleonCloud/CC-Ubuntu16.04',\n",
       "   'build-repo-commit': 'f5eddd6c31580874d6928601052c5df8389756d4',\n",
       "   'build-tag': 'jenkins-cc-trusty-builder-1',\n",
       "   'build-variant': 'base',\n",
       "   'checksum': '614829a027274fc185e70e3ece0b02ae',\n",
       "   'container_format': 'bare',\n",
       "   'created_at': '2017-12-08T06:17:07Z',\n",
       "   'disk_format': 'qcow2',\n",
       "   'file': '/v2/images/0136db8c-899f-47ff-bfbb-a8c2c3d7ec9b/file',\n",
       "   'id': '0136db8c-899f-47ff-bfbb-a8c2c3d7ec9b',\n",
       "   'min_disk': 0,\n",
       "   'min_ram': 0,\n",
       "   'name': 'image-ubuntu-trusty-jenkins-cc-trusty-builder-1',\n",
       "   'owner': '975c0a94b784483a885f4503f70af655',\n",
       "   'protected': False,\n",
       "   'schema': '/v2/schemas/image',\n",
       "   'self': '/v2/images/0136db8c-899f-47ff-bfbb-a8c2c3d7ec9b',\n",
       "   'size': 528351232,\n",
       "   'status': 'active',\n",
       "   'tags': [],\n",
       "   'updated_at': '2017-12-08T06:17:11Z',\n",
       "   'virtual_size': None,\n",
       "   'visibility': 'private'}),\n",
       " ('uc',\n",
       "  {'build-os': 'ubuntu-trusty',\n",
       "   'build-os-base-image-revision': '20171213',\n",
       "   'build-repo': 'https://github.com/ChameleonCloud/CC-Ubuntu16.04',\n",
       "   'build-repo-commit': 'bcd3c4e6fd30459d65f28b83b911c87964c9c577',\n",
       "   'build-tag': 'jenkins-cc-trusty-builder-7',\n",
       "   'build-variant': 'base',\n",
       "   'checksum': '0fdd52a592400e6479752f6375d3bfc4',\n",
       "   'container_format': 'bare',\n",
       "   'created_at': '2018-01-05T03:43:24Z',\n",
       "   'disk_format': 'qcow2',\n",
       "   'file': '/v2/images/fec1e6da-f172-484c-92d9-80d27b1c1bdf/file',\n",
       "   'id': 'fec1e6da-f172-484c-92d9-80d27b1c1bdf',\n",
       "   'min_disk': 0,\n",
       "   'min_ram': 0,\n",
       "   'name': 'image-ubuntu-trusty-jenkins-cc-trusty-builder-7',\n",
       "   'owner': '17374548ca3e4a2b83dc877549b665ee',\n",
       "   'protected': False,\n",
       "   'schema': '/v2/schemas/image',\n",
       "   'self': '/v2/images/fec1e6da-f172-484c-92d9-80d27b1c1bdf',\n",
       "   'size': 526903808,\n",
       "   'status': 'active',\n",
       "   'tags': [],\n",
       "   'updated_at': '2018-01-05T03:43:26Z',\n",
       "   'virtual_size': None,\n",
       "   'visibility': 'private'})]"
      ]
     },
     "execution_count": 34,
     "metadata": {},
     "output_type": "execute_result"
    }
   ],
   "source": [
    "list(matchimages(images, 'ubuntu-trusty', 'build-os'))"
   ]
  },
  {
   "cell_type": "code",
   "execution_count": 23,
   "metadata": {
    "collapsed": false
   },
   "outputs": [
    {
     "name": "stdout",
     "output_type": "stream",
     "text": [
      "tacc 6b3675d3ec01bfff6b0a2e7346b9c4c2\n",
      "uc 6b3675d3ec01bfff6b0a2e7346b9c4c2\n",
      "kvm 6b3675d3ec01bfff6b0a2e7346b9c4c2\n"
     ]
    }
   ],
   "source": [
    "xenial = dict(latests(images, 'CC-Ubuntu14.04'))\n",
    "for site, image in xenial.items():\n",
    "    if image:\n",
    "        print(site, image['checksum'])"
   ]
  },
  {
   "cell_type": "code",
   "execution_count": 20,
   "metadata": {
    "collapsed": false
   },
   "outputs": [
    {
     "data": {
      "text/plain": [
       "[25, 25, 25]"
      ]
     },
     "execution_count": 20,
     "metadata": {},
     "output_type": "execute_result"
    }
   ],
   "source": []
  },
  {
   "cell_type": "code",
   "execution_count": null,
   "metadata": {
    "collapsed": true
   },
   "outputs": [],
   "source": []
  }
 ],
 "metadata": {
  "kernelspec": {
   "display_name": "OS Clients (3.6)",
   "language": "python",
   "name": "os36"
  },
  "language_info": {
   "codemirror_mode": {
    "name": "ipython",
    "version": 3
   },
   "file_extension": ".py",
   "mimetype": "text/x-python",
   "name": "python",
   "nbconvert_exporter": "python",
   "pygments_lexer": "ipython3",
   "version": "3.6.1"
  }
 },
 "nbformat": 4,
 "nbformat_minor": 2
}
