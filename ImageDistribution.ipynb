{
 "cells": [
  {
   "cell_type": "code",
   "execution_count": 10,
   "metadata": {
    "collapsed": false,
    "deletable": true,
    "editable": true
   },
   "outputs": [],
   "source": [
    "from hammers.osapi import Auth, load_osrc\n",
    "from hammers.osrest import glance, keystone"
   ]
  },
  {
   "cell_type": "code",
   "execution_count": 5,
   "metadata": {
    "collapsed": false,
    "deletable": true,
    "editable": true
   },
   "outputs": [
    {
     "name": "stdout",
     "output_type": "stream",
     "text": [
      "Enter your password: ········\n"
     ]
    }
   ],
   "source": [
    "rc = {\n",
    "    'tacc': load_osrc('../rc/admin-chi.tacc.rc', get_pass=True),\n",
    "    'uc': load_osrc('../rc/admin-chi.uc.rc'),\n",
    "    'kvm': load_osrc('../rc/admin-kvm.tacc.rc'),\n",
    "}\n",
    "rc['uc']['OS_PASSWORD'] = rc['kvm']['OS_PASSWORD'] = rc['tacc']['OS_PASSWORD']\n",
    "auth = {k: Auth(rc[k]) for k in rc}"
   ]
  },
  {
   "cell_type": "code",
   "execution_count": 15,
   "metadata": {
    "collapsed": false
   },
   "outputs": [
    {
     "data": {
      "text/plain": [
       "[{'checksum': '0279648e547ce8b187f985eaeafeede2',\n",
       "  'container_format': 'bare',\n",
       "  'created_at': '2016-12-23T18:19:51Z',\n",
       "  'disk_format': 'qcow2',\n",
       "  'file': '/v2/images/0f216b1f-7841-451b-8971-d383364e01a6/file',\n",
       "  'id': '0f216b1f-7841-451b-8971-d383364e01a6',\n",
       "  'min_disk': 0,\n",
       "  'min_ram': 0,\n",
       "  'name': 'CC-CentOS7',\n",
       "  'owner': '570aad8999f7499db99eae22fe9b29bb',\n",
       "  'protected': False,\n",
       "  'schema': '/v2/schemas/image',\n",
       "  'self': '/v2/images/0f216b1f-7841-451b-8971-d383364e01a6',\n",
       "  'size': 734445056,\n",
       "  'status': 'active',\n",
       "  'tags': [],\n",
       "  'updated_at': '2016-12-23T19:14:23Z',\n",
       "  'virtual_size': None,\n",
       "  'visibility': 'public'}]"
      ]
     },
     "execution_count": 15,
     "metadata": {},
     "output_type": "execute_result"
    }
   ],
   "source": [
    "glance.images(auth['tacc'], {'name': 'CC-CentOS7', 'visibility': 'public'})"
   ]
  },
  {
   "cell_type": "code",
   "execution_count": 31,
   "metadata": {
    "collapsed": true
   },
   "outputs": [],
   "source": [
    "past_centos = {\n",
    "    'tacc': {'id': '0f216b1f-7841-451b-8971-d383364e01a6'},\n",
    "    'uc': {'id': '2c16bd4a-8d77-4c56-ae5d-fca651147016'},\n",
    "    'kvm': {'id': 'dc59301a-8d0f-4125-a09f-8ae1965fda64'},\n",
    "}\n",
    "past_xenial = {\n",
    "    'tacc': {'id': 'decc379b-1bf4-42b6-80a3-1a73836ef520'},\n",
    "    'uc': {'id': 'a29be6ec-cf43-488d-9fb6-9a257c96b0f6'},\n",
    "    'kvm': {'id': '2808416b-f1b6-4429-9a4f-a03a1b0da4c3'},\n",
    "}\n",
    "new_centos = {\n",
    "    'tacc': {'id': '10adbb3b-ccd3-4e23-8623-b8df82073de9'},\n",
    "    'uc': {'id': '388ca9a2-c7d7-49ac-8f66-6b254a6951d4'},\n",
    "    'kvm': {'id': '053b3438-edb5-4d17-873f-525600b9d9a9'},\n",
    "}\n",
    "new_xenial = {\n",
    "    'tacc': {'id': 'd930e8b3-7b29-4d25-9a63-cefdc46d6bc4'},\n",
    "    'uc': {'id': '926d0ea3-6e47-40f3-87ba-596f3bbe56cc'},\n",
    "    'kvm': {'id': 'c80567e8-12f9-44fc-8335-f62831ee73a6'},\n",
    "}"
   ]
  },
  {
   "cell_type": "code",
   "execution_count": 25,
   "metadata": {
    "collapsed": false
   },
   "outputs": [],
   "source": [
    "for site, image in past_centos.items():\n",
    "#     image['details'] = glance.image(auth[site], image['id'])\n",
    "#     assert image['details']['name'] == 'CC-CentOS7'\n",
    "    glance.image_properties(auth[site], image['id'], add={\n",
    "        'build-os': 'centos7'\n",
    "        'build-os-base-image-revision': '1612.0',\n",
    "    })\n",
    "    "
   ]
  },
  {
   "cell_type": "code",
   "execution_count": 30,
   "metadata": {
    "collapsed": true
   },
   "outputs": [],
   "source": [
    "for site, image in past_xenial.items():\n",
    "    image['details'] = glance.image(auth[site], image['id'])\n",
    "    assert image['details']['name'] == 'CC-Ubuntu16.04'\n",
    "    glance.image_properties(auth[site], image['id'], add={\n",
    "        'build-os': 'ubuntu-xenial',\n",
    "        'build-os-base-image-revision': '20170410',\n",
    "    })"
   ]
  },
  {
   "cell_type": "code",
   "execution_count": 28,
   "metadata": {
    "collapsed": false,
    "deletable": true,
    "editable": true
   },
   "outputs": [
    {
     "name": "stdout",
     "output_type": "stream",
     "text": [
      "tacc\n",
      "d930e8b3-7b29-4d25-9a63-cefdc46d6bc4 rc-CC-Ubuntu16.04\n",
      "10adbb3b-ccd3-4e23-8623-b8df82073de9 rc-CC-CentOS7\n",
      "\n",
      "uc\n",
      "926d0ea3-6e47-40f3-87ba-596f3bbe56cc rc-CC-Ubuntu16.04\n",
      "388ca9a2-c7d7-49ac-8f66-6b254a6951d4 rc-CC-CentOS7\n",
      "\n",
      "kvm\n",
      "c80567e8-12f9-44fc-8335-f62831ee73a6 rc-CC-Ubuntu16.04\n",
      "053b3438-edb5-4d17-873f-525600b9d9a9 rc-CC-CentOS7\n",
      "\n"
     ]
    }
   ],
   "source": [
    "for site in auth:\n",
    "    print(site)\n",
    "    images = glance.images(auth[site])\n",
    "\n",
    "    xenial = max((i for i in images if i.get('build-os') == 'ubuntu-xenial'), key=lambda i: i['created_at'])\n",
    "    centos = max((i for i in images if i.get('build-os') == 'centos7'), key=lambda i: i['created_at'])\n",
    "\n",
    "    print(xenial['id'], xenial['name'])\n",
    "    print(centos['id'], centos['name'])\n",
    "    print()"
   ]
  },
  {
   "cell_type": "code",
   "execution_count": 56,
   "metadata": {
    "collapsed": false,
    "deletable": true,
    "editable": true
   },
   "outputs": [
    {
     "data": {
      "text/plain": [
       "{'build-os',\n",
       " 'build-os-base-image-revision',\n",
       " 'build-repo',\n",
       " 'build-repo-commit',\n",
       " 'build-tag',\n",
       " 'build-variant'}"
      ]
     },
     "execution_count": 56,
     "metadata": {},
     "output_type": "execute_result"
    }
   ],
   "source": [
    "iterprops = iter(set(i) for i in images)\n",
    "init = next(iterprops)\n",
    "\n",
    "always_props = set(init)\n",
    "all_props = set(init)\n",
    "\n",
    "for props in iterprops:\n",
    "    always_props &= props\n",
    "    all_props |= props\n",
    "    \n",
    "sometimes_props = all_props - always_props\n",
    "sometimes_props"
   ]
  },
  {
   "cell_type": "code",
   "execution_count": 57,
   "metadata": {
    "collapsed": false,
    "deletable": true,
    "editable": true
   },
   "outputs": [],
   "source": [
    "def extract_extra_properties(image):\n",
    "    return {k: image[k] for k in sometimes_props if k in image}"
   ]
  },
  {
   "cell_type": "code",
   "execution_count": 58,
   "metadata": {
    "collapsed": false,
    "deletable": true,
    "editable": true
   },
   "outputs": [
    {
     "data": {
      "text/plain": [
       "{'build-os': 'centos7',\n",
       " 'build-os-base-image-revision': '1710',\n",
       " 'build-repo': 'https://github.com/ChameleonCloud/CC-CentOS7',\n",
       " 'build-repo-commit': 'c6c97c59133a7648f67c333d1dd889182de9bc5a',\n",
       " 'build-tag': 'jenkins-cc-centos7-builder-42',\n",
       " 'build-variant': 'base'}"
      ]
     },
     "execution_count": 58,
     "metadata": {},
     "output_type": "execute_result"
    }
   ],
   "source": [
    "extract_extra_properties(centos)"
   ]
  },
  {
   "cell_type": "markdown",
   "metadata": {},
   "source": [
    "# Site-to-site Transport"
   ]
  },
  {
   "cell_type": "code",
   "execution_count": 59,
   "metadata": {
    "collapsed": true,
    "deletable": true,
    "editable": true
   },
   "outputs": [],
   "source": [
    "import fabric.api as fapi\n",
    "import fabric.context_managers as fcm\n",
    "import fabric.network as fnet"
   ]
  },
  {
   "cell_type": "code",
   "execution_count": 60,
   "metadata": {
    "collapsed": true,
    "deletable": true,
    "editable": true
   },
   "outputs": [],
   "source": [
    "fapi.env['use_ssh_config'] = True\n",
    "fapi.env['abort_on_prompts'] = True\n",
    "fapi.env['host_string'] = 'm01-07'"
   ]
  },
  {
   "cell_type": "code",
   "execution_count": 61,
   "metadata": {
    "collapsed": false,
    "deletable": true,
    "editable": true
   },
   "outputs": [
    {
     "name": "stdout",
     "output_type": "stream",
     "text": [
      "Disconnecting from root@m01-07.chameleon.tacc.utexas.edu... done.\n"
     ]
    }
   ],
   "source": [
    "fnet.disconnect_all()"
   ]
  },
  {
   "cell_type": "code",
   "execution_count": 71,
   "metadata": {
    "collapsed": false,
    "deletable": true,
    "editable": true
   },
   "outputs": [
    {
     "name": "stdout",
     "output_type": "stream",
     "text": [
      "[m01-07] run: rm -f temp.img\n"
     ]
    },
    {
     "data": {
      "text/plain": [
       "{'build-os': 'centos7',\n",
       " 'build-os-base-image-revision': '1710',\n",
       " 'build-repo': 'https://github.com/ChameleonCloud/CC-CentOS7',\n",
       " 'build-repo-commit': 'c6c97c59133a7648f67c333d1dd889182de9bc5a',\n",
       " 'build-tag': 'jenkins-cc-centos7-builder-42',\n",
       " 'build-variant': 'base',\n",
       " 'checksum': None,\n",
       " 'container_format': 'bare',\n",
       " 'created_at': '2017-11-06T23:27:14Z',\n",
       " 'disk_format': 'qcow2',\n",
       " 'file': '/v2/images/388ca9a2-c7d7-49ac-8f66-6b254a6951d4/file',\n",
       " 'id': '388ca9a2-c7d7-49ac-8f66-6b254a6951d4',\n",
       " 'min_disk': 0,\n",
       " 'min_ram': 0,\n",
       " 'name': 'rc-CC-CentOS7',\n",
       " 'owner': 'cdf92cfdf4c5422cb2ead2d8a8ca2ae7',\n",
       " 'protected': False,\n",
       " 'schema': '/v2/schemas/image',\n",
       " 'self': '/v2/images/388ca9a2-c7d7-49ac-8f66-6b254a6951d4',\n",
       " 'size': None,\n",
       " 'status': 'queued',\n",
       " 'tags': [],\n",
       " 'updated_at': '2017-11-06T23:27:14Z',\n",
       " 'virtual_size': None,\n",
       " 'visibility': 'private'}"
      ]
     },
     "execution_count": 71,
     "metadata": {},
     "output_type": "execute_result"
    }
   ],
   "source": [
    "SOURCE_IMAGE = centos # dict\n",
    "SOURCE_SITE_AUTH = auth['tacc']\n",
    "TARGET_SITE_AUTH = auth['uc']\n",
    "TARGET_IMAGE_NAME = 'rc-CC-CentOS7'\n",
    "\n",
    "_TEMP_FILE = 'temp.img'\n",
    "\n",
    "curl_download = glance.image_download_curl(SOURCE_SITE_AUTH, SOURCE_IMAGE['id'], filepath=_TEMP_FILE)\n",
    "with fcm.cd('npt'):\n",
    "    fapi.run('rm -f {}'.format(_TEMP_FILE))\n",
    "    out = fapi.run(curl_download, quiet=True)\n",
    "    assert out.return_code == 0\n",
    "    \n",
    "    new_image = glance.image_create(TARGET_SITE_AUTH, TARGET_IMAGE_NAME, public=True, extra=extract_extra_properties(SOURCE_IMAGE))\n",
    "    curl_upload = glance.image_upload_curl(TARGET_SITE_AUTH, new_image['id'], _TEMP_FILE)\n",
    "    out = fapi.run(curl_upload, quiet=True)\n",
    "    assert out.return_code == 0\n",
    "    \n",
    "new_image"
   ]
  },
  {
   "cell_type": "code",
   "execution_count": null,
   "metadata": {
    "collapsed": false,
    "deletable": true,
    "editable": true
   },
   "outputs": [],
   "source": [
    "with fcm.cd('npt'):\n",
    "    new_image = glance.image_create(auth['tacc'], 'testimage', extra=extract_extra_properties(xenial))\n",
    "    curl_upload = glance.image_upload_curl(auth['tacc'], new_image['id'], 'temp.img')\n",
    "    out = fapi.run(curl_upload, quiet=True)"
   ]
  },
  {
   "cell_type": "code",
   "execution_count": 52,
   "metadata": {
    "collapsed": false,
    "deletable": true,
    "editable": true
   },
   "outputs": [],
   "source": [
    "new_image = glance.image(auth['tacc'], new_image['id'])\n",
    "assert new_image['checksum'] == xenial['checksum']"
   ]
  },
  {
   "cell_type": "markdown",
   "metadata": {
    "collapsed": true,
    "deletable": true,
    "editable": true
   },
   "source": [
    "# Swap Image Names"
   ]
  },
  {
   "cell_type": "code",
   "execution_count": 42,
   "metadata": {
    "collapsed": true
   },
   "outputs": [],
   "source": [
    "for site in auth:\n",
    "    glance.image_properties(auth[site], past_xenial[site]['id'], replace={'name': 'CC-Ubuntu16.04-20170410'})\n",
    "    glance.image_properties(auth[site], new_xenial[site]['id'], replace={'name': 'CC-Ubuntu16.04'})\n",
    "    glance.image_properties(auth[site], past_centos[site]['id'], replace={'name': 'CC-CentOS7-1612.0'})\n",
    "    glance.image_properties(auth[site], new_centos[site]['id'], replace={'name': 'CC-CentOS7'})"
   ]
  },
  {
   "cell_type": "code",
   "execution_count": null,
   "metadata": {
    "collapsed": true
   },
   "outputs": [],
   "source": []
  }
 ],
 "metadata": {
  "kernelspec": {
   "display_name": "OS Clients (3.6)",
   "language": "python",
   "name": "os36"
  }
 },
 "nbformat": 4,
 "nbformat_minor": 2
}
