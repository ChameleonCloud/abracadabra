{
 "cells": [
  {
   "cell_type": "code",
   "execution_count": 17,
   "metadata": {
    "collapsed": false,
    "deletable": true,
    "editable": true
   },
   "outputs": [],
   "source": [
    "import secrets\n",
    "import subprocess\n",
    "import tempfile\n",
    "\n",
    "from hammers.osapi import Auth, load_osrc\n",
    "from hammers.osrest import glance, keystone"
   ]
  },
  {
   "cell_type": "code",
   "execution_count": 18,
   "metadata": {
    "collapsed": false,
    "deletable": true,
    "editable": true
   },
   "outputs": [
    {
     "name": "stdout",
     "output_type": "stream",
     "text": [
      "Enter your password: ········\n"
     ]
    }
   ],
   "source": [
    "rc = {\n",
    "    'tacc': load_osrc('../rc/admin-chi.tacc.rc', get_pass=True),\n",
    "    'uc': load_osrc('../rc/admin-chi.uc.rc'),\n",
    "    'kvm': load_osrc('../rc/admin-kvm.tacc.rc'),\n",
    "}\n",
    "rc['uc']['OS_PASSWORD'] = rc['kvm']['OS_PASSWORD'] = rc['tacc']['OS_PASSWORD']\n",
    "auth = {k: Auth(rc[k]) for k in rc}"
   ]
  },
  {
   "cell_type": "code",
   "execution_count": 19,
   "metadata": {
    "collapsed": false,
    "deletable": true,
    "editable": true
   },
   "outputs": [],
   "source": [
    "BASE_NAME = {\n",
    "    'ubuntu-trusty': 'Ubuntu14.04',\n",
    "    'ubuntu-xenial': 'Ubuntu16.04',\n",
    "    'centos7': 'CentOS7',\n",
    "}\n",
    "VARIANT_NAME = {\n",
    "    'base': '',\n",
    "    'gpu': 'CUDA8',\n",
    "    'fpga': 'FPGA',\n",
    "}\n",
    "\n",
    "def production_name(image=None, os=None, variant=None):\n",
    "    if os is None and variant is None:\n",
    "        if image is None:\n",
    "            raise ValueError('must provide image or os/variant')\n",
    "        os = image['build-os']\n",
    "        variant = image['build-variant']\n",
    "    elif os is None or variant is None:\n",
    "        raise ValueError('must provide image or os/variant')\n",
    "\n",
    "    base = BASE_NAME[os]\n",
    "    variant = VARIANT_NAME[variant]\n",
    "    var_delim = '-' if variant else ''\n",
    "    return 'CC-{}{}{}'.format(base, var_delim, variant)\n",
    "\n",
    "\n",
    "def archival_name(image=None, os=None, variant=None):\n",
    "    return '{}-{}'.format(production_name(image, os, variant), image['build-os-base-image-revision'])\n",
    "\n",
    "\n",
    "BASE_PROPS = {\n",
    "    'checksum',\n",
    "    'container_format',\n",
    "    'created_at',\n",
    "    'disk_format',\n",
    "    'file',\n",
    "    'id',\n",
    "    'min_disk',\n",
    "    'min_ram',\n",
    "    'name',\n",
    "    'owner',\n",
    "    'protected',\n",
    "    'schema',\n",
    "    'self',\n",
    "    'size',\n",
    "    'status',\n",
    "    'tags',\n",
    "    'updated_at',\n",
    "    'virtual_size',\n",
    "    'visibility',\n",
    "}\n",
    "\n",
    "def extract_extra_properties(image):\n",
    "    return {k: image[k] for k in image if k not in BASE_PROPS}\n",
    "\n",
    "\n",
    "class ImageDistributor:\n",
    "    def __init__(self, auths, build_site, os, variant):\n",
    "        self.auths = auths\n",
    "        self.build_site = build_site\n",
    "        self.os = os\n",
    "        self.variant = variant\n",
    "        \n",
    "        self.production_name = production_name(os=self.os, variant=self.variant)\n",
    "        \n",
    "        self.work_order = None\n",
    "\n",
    "    def current_production_image(self, site):\n",
    "        # filter images\n",
    "        images_with_prod_name = glance.images(self.auths[site], {\n",
    "            'name': self.production_name, \n",
    "            'visibility': 'public',\n",
    "        })\n",
    "        if len(images_with_prod_name) > 1:\n",
    "            raise RuntimeError('multiple images with production name \"{}\" on site \"{}\":\\n{}'.format(\n",
    "                self.production_name, \n",
    "                site, \n",
    "                '\\n'.join('- {}'.format(i['id']) for i in images_with_prod_name)\n",
    "            ))\n",
    "        elif len(images_with_prod_name) < 1:\n",
    "            return None\n",
    "        \n",
    "        prod_image = images_with_prod_name[0]\n",
    "        if 'build-tag' not in prod_image:\n",
    "            print('Warning: Metadata missing from current production image \"{}\" on site \"{}\"'.format(\n",
    "                self.production_name,\n",
    "                site\n",
    "            ))\n",
    "        return prod_image['id']\n",
    "        \n",
    "    def propose_work_order(self):\n",
    "        orders = []\n",
    "        \n",
    "        # filter images\n",
    "        images = glance.images(self.auths[self.build_site], {\n",
    "            'build-os': self.os, \n",
    "            'build-variant': self.variant,\n",
    "        })\n",
    "        images = {i['id']: i for i in images if i['build-tag'].startswith('jenkins')}\n",
    "        if not images:\n",
    "            raise RuntimeError('no images found')\n",
    "        image_order = sorted(images, key=lambda i: images[i]['build-tag'], reverse=True)\n",
    "        candidate_image = images[image_order[0]]\n",
    "            \n",
    "        # find current published image\n",
    "        published_images = {}\n",
    "        for site in self.auths:\n",
    "            published_images[site] = self.current_production_image(site)\n",
    "#         try:\n",
    "#             published_image = next(\n",
    "#                 images[i] \n",
    "#                 for i \n",
    "#                 in image_order \n",
    "#                 if images[i]['visibility'] == 'public' and \n",
    "#                    images[i]['name'] == self.production_name)\n",
    "#         except StopIteration:\n",
    "#             images_with_prod_name = glance.images(self.auth, {\n",
    "#                 'name': self.production_name, \n",
    "#                 'visibility': 'public',\n",
    "#             })\n",
    "#             if len(images_with_prod_name) < 1:\n",
    "#                 print('Warning: No public images found matching name \"{}\". Assuming new release.'\n",
    "#                       .format(self.production_name))\n",
    "#                 published_image = None\n",
    "#             elif len(images_with_prod_name) == 1:\n",
    "#                 print('Info: Current production image \"{}\" has no metadata, matched by name'\n",
    "#                       .format(self.production_name))\n",
    "#                 published_image = images_with_prod_name[0]\n",
    "#             else:\n",
    "#                 raise RuntimeError('Multiple public images with name \"{}\", none have metadata'\n",
    "#                                    .format(self.production_name))\n",
    "\n",
    "        orders = []\n",
    "#         if not any(published_images.values) and published_image['id'] == candidate_image['id']:\n",
    "#             # nothing to do\n",
    "#             pass\n",
    "#         elif published_image is None:\n",
    "#             orders.append(('publish', candidate_image['id']))\n",
    "#         else:\n",
    "#             orders.append(('archive', published_image['id']))\n",
    "#             orders.append(('publish', candidate_image['id']))\n",
    "        for site in published_images:\n",
    "            if published_images[site] is not None:\n",
    "                orders.append(('archive', (site, published_images[site])))\n",
    "            orders.append(('copypublish', (self.build_site, candidate_image['id']), (site, 'id-{}'.format(site))))\n",
    "    \n",
    "        self.proposed_orders = orders\n",
    "        return orders\n",
    "\n",
    "    def archive(self, site, image):\n",
    "        # check if anticipated archival name exists\n",
    "        arch_name = archival_name(image)\n",
    "        possible_clashes = glance.images(self.auths[site], {\n",
    "            'build-os-base-image-revision': image['build-os-base-image-revision'],\n",
    "        })\n",
    "        if possible_clashes:\n",
    "            # append an \"-[integer]\" if needed\n",
    "            possible_clashes.sort(key=lambda i: i['name'], reverse=True)\n",
    "            latest_archive_name = None\n",
    "            for image in possible_clashes:\n",
    "                if images['name'].startswith(arch_name):\n",
    "                    arch_name = increment_archival_name(images)\n",
    "                    break\n",
    "            #else: no clashes, fall through with base arch_name\n",
    "        assert not glance.images(self.auths[site], {'name': arch_name}) # should be unique\n",
    "        glance.image_properties(self.auths[site], image['id'], replace={'name': arch_name})\n",
    "    \n",
    "    def copypublish(self, source_site, source_id, target_site):\n",
    "        pass\n",
    "\n",
    "def increment_archival_name(image):\n",
    "    parts = image['name'].split('-')\n",
    "    if parts[-1] == image['build-os-base-image-revision']:\n",
    "        parts.append('1')\n",
    "    else:\n",
    "        parts[-1] = str(int(parts[-1]) + 1)\n",
    "    return '-'.join(parts)\n",
    "\n",
    "_BOBIR = 'build-os-base-image-revision'\n",
    "_IMG = {'name': 'CC-CentOS7-1610.0', _BOBIR: '1610.0'}\n",
    "_IMGN_2 = increment_archival_name(_IMG)\n",
    "assert _IMGN_2 == 'CC-CentOS7-1610.0-1', _IMGN_2\n",
    "_IMG['name'] = _IMGN_2\n",
    "_IMGN_3 = increment_archival_name(_IMG)\n",
    "assert _IMGN_3 == 'CC-CentOS7-1610.0-2', _IMGN_3"
   ]
  },
  {
   "cell_type": "code",
   "execution_count": 33,
   "metadata": {
    "collapsed": false,
    "deletable": true,
    "editable": true
   },
   "outputs": [
    {
     "name": "stdout",
     "output_type": "stream",
     "text": [
      "570aad8999f7499db99eae22fe9b29bb\n",
      "cdf92cfdf4c5422cb2ead2d8a8ca2ae7\n",
      "openstack\n"
     ]
    }
   ],
   "source": [
    "for site in auth:\n",
    "    print(auth[site].access['token']['tenant']['id'])"
   ]
  },
  {
   "cell_type": "code",
   "execution_count": null,
   "metadata": {
    "collapsed": true,
    "deletable": true,
    "editable": true
   },
   "outputs": [],
   "source": [
    "glance.image_properties"
   ]
  },
  {
   "cell_type": "code",
   "execution_count": 45,
   "metadata": {
    "collapsed": false,
    "deletable": true,
    "editable": true
   },
   "outputs": [],
   "source": [
    "candidates = glance.images(auth['uc'], query={'build-os': 'ubuntu-xenial'})#, 'owner': auth['kvm'].access['token']['tenant']['id']})\n",
    "candidates.sort(key=operator.itemgetter('created_at'), reverse=True)"
   ]
  },
  {
   "cell_type": "code",
   "execution_count": 50,
   "metadata": {
    "collapsed": false,
    "deletable": true,
    "editable": true
   },
   "outputs": [
    {
     "data": {
      "text/plain": [
       "{'metadata': {'is_admin': 0,\n",
       "  'roles': ['9fe2ff9ee4384b1894a90878d3e92bab',\n",
       "   '692a231cd23a4c1a848213194d1bc3f3']},\n",
       " 'serviceCatalog': [{'endpoints': [{'adminURL': 'http://10.140.80.98:8774/v2.1',\n",
       "     'id': '4c14c2ed2f5749d3bb65c88337938ba5',\n",
       "     'internalURL': 'http://10.140.80.98:8774/v2.1',\n",
       "     'publicURL': 'https://chi.uc.chameleoncloud.org:8774/v2.1',\n",
       "     'region': 'CHI@UC'}],\n",
       "   'endpoints_links': [],\n",
       "   'name': 'nova',\n",
       "   'type': 'compute'},\n",
       "  {'endpoints': [{'adminURL': 'http://10.140.80.98:9696',\n",
       "     'id': '335eac699a0c4ddcaa119936dd365ec1',\n",
       "     'internalURL': 'http://10.140.80.98:9696',\n",
       "     'publicURL': 'https://chi.uc.chameleoncloud.org:9696',\n",
       "     'region': 'CHI@UC'}],\n",
       "   'endpoints_links': [],\n",
       "   'name': 'neutron',\n",
       "   'type': 'network'},\n",
       "  {'endpoints': [{'adminURL': 'http://10.140.80.98:8774/v3',\n",
       "     'id': 'b0d829f93aba40bba588efa11bd0e43f',\n",
       "     'internalURL': 'http://10.140.80.98:8774/v3',\n",
       "     'publicURL': 'https://chi.uc.chameleoncloud.org:8774/v3',\n",
       "     'region': 'CHI@UC'}],\n",
       "   'endpoints_links': [],\n",
       "   'name': 'novav3',\n",
       "   'type': 'computev3'},\n",
       "  {'endpoints': [{'adminURL': 'http://10.140.80.98:8041',\n",
       "     'id': '3547aa03b8bc4491a8b3ee8f34402ebb',\n",
       "     'internalURL': 'http://10.140.80.98:8041',\n",
       "     'publicURL': 'https://chi.uc.chameleoncloud.org:8041',\n",
       "     'region': 'CHI@UC'}],\n",
       "   'endpoints_links': [],\n",
       "   'name': 'gnocchi',\n",
       "   'type': 'metric'},\n",
       "  {'endpoints': [{'adminURL': 'http://10.140.80.98:6385',\n",
       "     'id': 'a6d917c7ff57439ba05faaa03c3d9eeb',\n",
       "     'internalURL': 'http://10.140.80.98:6385',\n",
       "     'publicURL': 'https://chi.uc.chameleoncloud.org:6385',\n",
       "     'region': 'CHI@UC'}],\n",
       "   'endpoints_links': [],\n",
       "   'name': 'ironic',\n",
       "   'type': 'baremetal'},\n",
       "  {'endpoints': [{'adminURL': 'http://10.140.80.98:8004/v1/cdf92cfdf4c5422cb2ead2d8a8ca2ae7',\n",
       "     'id': '41d666cd0a2946ba9ba9b908a38539a0',\n",
       "     'internalURL': 'http://10.140.80.98:8004/v1/cdf92cfdf4c5422cb2ead2d8a8ca2ae7',\n",
       "     'publicURL': 'https://chi.uc.chameleoncloud.org:8004/v1/cdf92cfdf4c5422cb2ead2d8a8ca2ae7',\n",
       "     'region': 'CHI@UC'}],\n",
       "   'endpoints_links': [],\n",
       "   'name': 'heat',\n",
       "   'type': 'orchestration'},\n",
       "  {'endpoints': [{'adminURL': 'http://10.140.80.98:8780/placement',\n",
       "     'id': '5b92cbeda48542adbc652b9115033d18',\n",
       "     'internalURL': 'http://10.140.80.98:8780/placement',\n",
       "     'publicURL': 'https://chi.uc.chameleoncloud.org:8780/placement',\n",
       "     'region': 'CHI@UC'}],\n",
       "   'endpoints_links': [],\n",
       "   'name': 'placement',\n",
       "   'type': 'placement'},\n",
       "  {'endpoints': [{'adminURL': 'http://10.140.80.98:1234/v1',\n",
       "     'id': '561fb2f5a3e24f56ad4655c9ead9207a',\n",
       "     'internalURL': 'http://10.140.80.98:1234/v1',\n",
       "     'publicURL': 'https://chi.uc.chameleoncloud.org:1234/v1',\n",
       "     'region': 'CHI@UC'}],\n",
       "   'endpoints_links': [],\n",
       "   'name': 'blazar',\n",
       "   'type': 'reservation'},\n",
       "  {'endpoints': [{'adminURL': 'http://10.140.80.185:9292',\n",
       "     'id': '71d5dd03aaf443fcab81c223e6d45227',\n",
       "     'internalURL': 'http://10.140.80.185:9292',\n",
       "     'publicURL': 'https://chi.uc.chameleoncloud.org:9292',\n",
       "     'region': 'CHI@UC'}],\n",
       "   'endpoints_links': [],\n",
       "   'name': 'glance',\n",
       "   'type': 'image'},\n",
       "  {'endpoints': [{'adminURL': 'https://chi.uc.chameleoncloud.org:35357',\n",
       "     'id': '0d264dcc454a4de789c2bf4a0407460a',\n",
       "     'internalURL': 'https://chi.uc.chameleoncloud.org:35357',\n",
       "     'publicURL': 'https://chi.uc.chameleoncloud.org:5000',\n",
       "     'region': 'CHI@UC'}],\n",
       "   'endpoints_links': [],\n",
       "   'name': 'keystone',\n",
       "   'type': 'identity'}],\n",
       " 'token': {'audit_ids': ['1DNZd3r3TKKmbIXm6ZczHQ'],\n",
       "  'expires': '2019-02-19T22:47:48.000000Z',\n",
       "  'id': 'gAAAAABai1QUYif4OwpmdDwyCgPN99HhiCzK3o0yYkeEJzixP6NpngDrjvtaWE3fSkeH30rUSgTt1g3zFEWIK1ouzaI0T3Cs1tMlYyXNcY-ENlnENws76CoafGTfJhI-qoWMXHiOeoN6L4EJOtMjb1TZDBWi13kCSbbneIUYyWpIZe-TPHf8IeA',\n",
       "  'issued_at': '2018-02-19T22:47:48.000000Z',\n",
       "  'tenant': {'description': 'admin tenant',\n",
       "   'enabled': True,\n",
       "   'id': 'cdf92cfdf4c5422cb2ead2d8a8ca2ae7',\n",
       "   'name': 'openstack'}},\n",
       " 'user': {'id': '410855c46e9b4647b900f93e6a5a2703',\n",
       "  'name': 'ntimkovi',\n",
       "  'roles': [{'name': '_member_'}, {'name': 'admin'}],\n",
       "  'roles_links': [],\n",
       "  'username': 'ntimkovi'}}"
      ]
     },
     "execution_count": 50,
     "metadata": {},
     "output_type": "execute_result"
    }
   ],
   "source": [
    "auth['uc'].access"
   ]
  },
  {
   "cell_type": "code",
   "execution_count": 49,
   "metadata": {
    "collapsed": false,
    "deletable": true,
    "editable": true
   },
   "outputs": [
    {
     "data": {
      "text/plain": [
       "[{'endpoints': [{'adminURL': 'http://10.140.80.98:8774/v2.1',\n",
       "    'id': '4c14c2ed2f5749d3bb65c88337938ba5',\n",
       "    'internalURL': 'http://10.140.80.98:8774/v2.1',\n",
       "    'publicURL': 'https://chi.uc.chameleoncloud.org:8774/v2.1',\n",
       "    'region': 'CHI@UC'}],\n",
       "  'endpoints_links': [],\n",
       "  'name': 'nova',\n",
       "  'type': 'compute'}]"
      ]
     },
     "execution_count": 49,
     "metadata": {},
     "output_type": "execute_result"
    }
   ],
   "source": [
    "s = [serv\n",
    "    for serv\n",
    "    in auth['uc'].access['serviceCatalog']\n",
    "    if serv['type'] == 'compute'\n",
    "]\n",
    "s"
   ]
  },
  {
   "cell_type": "code",
   "execution_count": null,
   "metadata": {
    "collapsed": true,
    "deletable": true,
    "editable": true
   },
   "outputs": [],
   "source": [
    "    "
   ]
  },
  {
   "cell_type": "code",
   "execution_count": 38,
   "metadata": {
    "collapsed": true,
    "deletable": true,
    "editable": true
   },
   "outputs": [],
   "source": [
    "import operator"
   ]
  },
  {
   "cell_type": "code",
   "execution_count": 43,
   "metadata": {
    "collapsed": false,
    "deletable": true,
    "editable": true
   },
   "outputs": [],
   "source": []
  },
  {
   "cell_type": "code",
   "execution_count": 44,
   "metadata": {
    "collapsed": false,
    "deletable": true,
    "editable": true
   },
   "outputs": [
    {
     "data": {
      "text/plain": [
       "[{'build-os': 'ubuntu-xenial',\n",
       "  'build-os-base-image-revision': '20170410',\n",
       "  'checksum': 'c2145d34dd4b8b4d65d61fa9e1aa5c46',\n",
       "  'container_format': 'bare',\n",
       "  'created_at': '2016-12-23T17:33:01Z',\n",
       "  'disk_format': 'qcow2',\n",
       "  'file': '/v2/images/a29be6ec-cf43-488d-9fb6-9a257c96b0f6/file',\n",
       "  'id': 'a29be6ec-cf43-488d-9fb6-9a257c96b0f6',\n",
       "  'min_disk': 0,\n",
       "  'min_ram': 0,\n",
       "  'name': 'CC-Ubuntu16.04-20170410',\n",
       "  'owner': 'cdf92cfdf4c5422cb2ead2d8a8ca2ae7',\n",
       "  'protected': False,\n",
       "  'schema': '/v2/schemas/image',\n",
       "  'self': '/v2/images/a29be6ec-cf43-488d-9fb6-9a257c96b0f6',\n",
       "  'size': 841482240,\n",
       "  'status': 'active',\n",
       "  'tags': [],\n",
       "  'updated_at': '2017-11-07T05:43:35Z',\n",
       "  'virtual_size': None,\n",
       "  'visibility': 'public'},\n",
       " {'build-os': 'ubuntu-xenial',\n",
       "  'build-os-base-image-revision': '20171028',\n",
       "  'build-repo': 'https://github.com/ChameleonCloud/CC-Ubuntu16.04',\n",
       "  'build-repo-commit': '0e16570cbdb11bccabb0ef3143e7e1ecf8b3724f',\n",
       "  'build-tag': 'jenkins-cc-xenial-builder-10',\n",
       "  'build-variant': 'base',\n",
       "  'checksum': '8b88e33f0a7c7d4df184bda66f83d3f2',\n",
       "  'container_format': 'bare',\n",
       "  'created_at': '2017-11-06T23:26:29Z',\n",
       "  'disk_format': 'qcow2',\n",
       "  'file': '/v2/images/926d0ea3-6e47-40f3-87ba-596f3bbe56cc/file',\n",
       "  'id': '926d0ea3-6e47-40f3-87ba-596f3bbe56cc',\n",
       "  'min_disk': 0,\n",
       "  'min_ram': 0,\n",
       "  'name': 'CC-Ubuntu16.04-20171028',\n",
       "  'owner': 'cdf92cfdf4c5422cb2ead2d8a8ca2ae7',\n",
       "  'protected': False,\n",
       "  'schema': '/v2/schemas/image',\n",
       "  'self': '/v2/images/926d0ea3-6e47-40f3-87ba-596f3bbe56cc',\n",
       "  'size': 694071296,\n",
       "  'status': 'active',\n",
       "  'tags': [],\n",
       "  'updated_at': '2017-11-13T22:57:13Z',\n",
       "  'virtual_size': None,\n",
       "  'visibility': 'public'},\n",
       " {'build-os': 'ubuntu-xenial',\n",
       "  'build-os-base-image-revision': '20171110',\n",
       "  'build-repo': 'https://github.com/ChameleonCloud/CC-Ubuntu16.04',\n",
       "  'build-repo-commit': '1b22c495f6c5c7e4c50a8728c05a28dbb7b829ab',\n",
       "  'build-tag': 'jenkins-cc-xenial-builder-17',\n",
       "  'build-variant': 'base',\n",
       "  'checksum': 'ad7e4e1542ac60cb2ff18aeaaf45d285',\n",
       "  'container_format': 'bare',\n",
       "  'created_at': '2017-11-13T22:12:01Z',\n",
       "  'disk_format': 'qcow2',\n",
       "  'file': '/v2/images/bad58803-38a4-4843-b9ce-863ab82b986f/file',\n",
       "  'id': 'bad58803-38a4-4843-b9ce-863ab82b986f',\n",
       "  'min_disk': 0,\n",
       "  'min_ram': 0,\n",
       "  'name': 'CC-Ubuntu16.04-20171110',\n",
       "  'owner': 'cdf92cfdf4c5422cb2ead2d8a8ca2ae7',\n",
       "  'protected': False,\n",
       "  'schema': '/v2/schemas/image',\n",
       "  'self': '/v2/images/bad58803-38a4-4843-b9ce-863ab82b986f',\n",
       "  'size': 696772608,\n",
       "  'status': 'active',\n",
       "  'tags': [],\n",
       "  'updated_at': '2018-01-03T06:35:40Z',\n",
       "  'virtual_size': None,\n",
       "  'visibility': 'public'},\n",
       " {'build-os': 'ubuntu-xenial',\n",
       "  'build-os-base-image-revision': '20171221',\n",
       "  'build-repo': 'https://github.com/ChameleonCloud/CC-Ubuntu16.04',\n",
       "  'build-repo-commit': 'd37ecadc509f2099e45464eb0364fbc62e1ccf30',\n",
       "  'build-tag': 'jenkins-cc-xenial-builder-27',\n",
       "  'build-variant': 'base',\n",
       "  'checksum': '4be41125500634d4cba1d86440e1f78d',\n",
       "  'container_format': 'bare',\n",
       "  'created_at': '2018-01-03T06:34:18Z',\n",
       "  'disk_format': 'qcow2',\n",
       "  'file': '/v2/images/b716162a-638e-4593-9587-c789a8367fdf/file',\n",
       "  'id': 'b716162a-638e-4593-9587-c789a8367fdf',\n",
       "  'min_disk': 0,\n",
       "  'min_ram': 0,\n",
       "  'name': 'CC-Ubuntu16.04-20171221',\n",
       "  'owner': 'cdf92cfdf4c5422cb2ead2d8a8ca2ae7',\n",
       "  'protected': False,\n",
       "  'schema': '/v2/schemas/image',\n",
       "  'self': '/v2/images/b716162a-638e-4593-9587-c789a8367fdf',\n",
       "  'size': 700948480,\n",
       "  'status': 'active',\n",
       "  'tags': [],\n",
       "  'updated_at': '2018-02-09T22:31:49Z',\n",
       "  'virtual_size': None,\n",
       "  'visibility': 'public'},\n",
       " {'build-os': 'ubuntu-xenial',\n",
       "  'build-os-base-image-revision': '20171221',\n",
       "  'build-repo': 'https://github.com/ChameleonCloud/CC-Ubuntu16.04',\n",
       "  'build-repo-commit': 'bcd3c4e6fd30459d65f28b83b911c87964c9c577',\n",
       "  'build-tag': 'jenkins-cc-xenial-builder-31',\n",
       "  'build-variant': 'base',\n",
       "  'checksum': 'e0ccb2aaa5920e37d77aee83b945119f',\n",
       "  'container_format': 'bare',\n",
       "  'created_at': '2018-01-05T03:55:42Z',\n",
       "  'disk_format': 'qcow2',\n",
       "  'file': '/v2/images/07b1ac7b-537e-48be-956c-eba68cb35c9e/file',\n",
       "  'id': '07b1ac7b-537e-48be-956c-eba68cb35c9e',\n",
       "  'min_disk': 0,\n",
       "  'min_ram': 0,\n",
       "  'name': 'image-ubuntu-xenial-jenkins-cc-xenial-builder-31',\n",
       "  'owner': '17374548ca3e4a2b83dc877549b665ee',\n",
       "  'protected': False,\n",
       "  'schema': '/v2/schemas/image',\n",
       "  'self': '/v2/images/07b1ac7b-537e-48be-956c-eba68cb35c9e',\n",
       "  'size': 700903424,\n",
       "  'status': 'active',\n",
       "  'tags': [],\n",
       "  'updated_at': '2018-01-05T03:55:45Z',\n",
       "  'virtual_size': None,\n",
       "  'visibility': 'private'},\n",
       " {'build-os': 'ubuntu-xenial',\n",
       "  'build-os-base-image-revision': '20180205',\n",
       "  'build-repo': 'https://github.com/ChameleonCloud/CC-Ubuntu16.04',\n",
       "  'build-repo-commit': 'ea2b696cc7ddc7357f0a95a460c129d4ef553ce7',\n",
       "  'build-tag': 'jenkins-cc-xenial-builder-32',\n",
       "  'build-variant': 'base',\n",
       "  'checksum': '3923cecf91040d91086cbd9cf27b2f8b',\n",
       "  'container_format': 'bare',\n",
       "  'created_at': '2018-02-09T21:01:39Z',\n",
       "  'disk_format': 'qcow2',\n",
       "  'file': '/v2/images/7c91e2a9-4846-407f-ab1d-f2954e98fa18/file',\n",
       "  'id': '7c91e2a9-4846-407f-ab1d-f2954e98fa18',\n",
       "  'min_disk': 0,\n",
       "  'min_ram': 0,\n",
       "  'name': 'image-ubuntu-xenial-jenkins-cc-xenial-builder-32',\n",
       "  'owner': '17374548ca3e4a2b83dc877549b665ee',\n",
       "  'protected': False,\n",
       "  'schema': '/v2/schemas/image',\n",
       "  'self': '/v2/images/7c91e2a9-4846-407f-ab1d-f2954e98fa18',\n",
       "  'size': 706473472,\n",
       "  'status': 'active',\n",
       "  'tags': [],\n",
       "  'updated_at': '2018-02-09T21:01:42Z',\n",
       "  'virtual_size': None,\n",
       "  'visibility': 'private'},\n",
       " {'build-os': 'ubuntu-xenial',\n",
       "  'build-os-base-image-revision': '20180205',\n",
       "  'build-repo': 'https://github.com/ChameleonCloud/CC-Ubuntu16.04',\n",
       "  'build-repo-commit': 'ea2b696cc7ddc7357f0a95a460c129d4ef553ce7',\n",
       "  'build-tag': 'jenkins-cc-xenial-builder-32',\n",
       "  'build-variant': 'base',\n",
       "  'checksum': '3923cecf91040d91086cbd9cf27b2f8b',\n",
       "  'container_format': 'bare',\n",
       "  'created_at': '2018-02-09T22:30:45Z',\n",
       "  'disk_format': 'qcow2',\n",
       "  'file': '/v2/images/248de75c-b4b3-4a6e-a8b8-79ec8123af2b/file',\n",
       "  'id': '248de75c-b4b3-4a6e-a8b8-79ec8123af2b',\n",
       "  'min_disk': 0,\n",
       "  'min_ram': 0,\n",
       "  'name': 'CC-Ubuntu16.04',\n",
       "  'owner': 'cdf92cfdf4c5422cb2ead2d8a8ca2ae7',\n",
       "  'protected': False,\n",
       "  'schema': '/v2/schemas/image',\n",
       "  'self': '/v2/images/248de75c-b4b3-4a6e-a8b8-79ec8123af2b',\n",
       "  'size': 706473472,\n",
       "  'status': 'active',\n",
       "  'tags': [],\n",
       "  'updated_at': '2018-02-09T22:31:50Z',\n",
       "  'virtual_size': None,\n",
       "  'visibility': 'public'},\n",
       " {'build-os': 'ubuntu-xenial',\n",
       "  'build-os-base-image-revision': '20180214',\n",
       "  'build-repo': 'https://github.com/ChameleonCloud/CC-Ubuntu16.04',\n",
       "  'build-repo-commit': 'ea2b696cc7ddc7357f0a95a460c129d4ef553ce7',\n",
       "  'build-tag': 'jenkins-cc-xenial-builder-33',\n",
       "  'build-variant': 'base',\n",
       "  'checksum': 'b930ead221c92cdd3f49c2728ec74e30',\n",
       "  'container_format': 'bare',\n",
       "  'created_at': '2018-02-15T00:06:06Z',\n",
       "  'disk_format': 'qcow2',\n",
       "  'file': '/v2/images/e9c4cfc4-ac4f-40f8-9d01-f02a41c80cd5/file',\n",
       "  'id': 'e9c4cfc4-ac4f-40f8-9d01-f02a41c80cd5',\n",
       "  'min_disk': 0,\n",
       "  'min_ram': 0,\n",
       "  'name': 'image-ubuntu-xenial-jenkins-cc-xenial-builder-33',\n",
       "  'owner': '17374548ca3e4a2b83dc877549b665ee',\n",
       "  'protected': False,\n",
       "  'schema': '/v2/schemas/image',\n",
       "  'self': '/v2/images/e9c4cfc4-ac4f-40f8-9d01-f02a41c80cd5',\n",
       "  'size': 706678272,\n",
       "  'status': 'active',\n",
       "  'tags': [],\n",
       "  'updated_at': '2018-02-15T00:06:09Z',\n",
       "  'virtual_size': None,\n",
       "  'visibility': 'private'},\n",
       " {'build-os': 'ubuntu-xenial',\n",
       "  'build-os-base-image-revision': '20180214',\n",
       "  'build-repo': 'https://github.com/ChameleonCloud/CC-Ubuntu16.04',\n",
       "  'build-repo-commit': '01b370d7e43333051603ba5cfd3ad3563e212f83',\n",
       "  'build-tag': 'jenkins-cc-xenial-builder-34',\n",
       "  'build-variant': 'base',\n",
       "  'checksum': 'a8ea81d7a7848bd140e8d2b0f3260203',\n",
       "  'container_format': 'bare',\n",
       "  'created_at': '2018-02-15T00:36:48Z',\n",
       "  'disk_format': 'qcow2',\n",
       "  'file': '/v2/images/871fb87b-3a64-4a4c-a696-487e248f59aa/file',\n",
       "  'id': '871fb87b-3a64-4a4c-a696-487e248f59aa',\n",
       "  'min_disk': 0,\n",
       "  'min_ram': 0,\n",
       "  'name': 'image-ubuntu-xenial-jenkins-cc-xenial-builder-34',\n",
       "  'owner': '17374548ca3e4a2b83dc877549b665ee',\n",
       "  'protected': False,\n",
       "  'schema': '/v2/schemas/image',\n",
       "  'self': '/v2/images/871fb87b-3a64-4a4c-a696-487e248f59aa',\n",
       "  'size': 706442752,\n",
       "  'status': 'active',\n",
       "  'tags': [],\n",
       "  'updated_at': '2018-02-15T00:36:51Z',\n",
       "  'virtual_size': None,\n",
       "  'visibility': 'private'},\n",
       " {'build-os': 'ubuntu-xenial',\n",
       "  'build-os-base-image-revision': '20180215',\n",
       "  'build-repo': 'https://github.com/ChameleonCloud/CC-Ubuntu16.04',\n",
       "  'build-repo-commit': '01b370d7e43333051603ba5cfd3ad3563e212f83',\n",
       "  'build-tag': 'jenkins-cc-xenial-builder-35',\n",
       "  'build-variant': 'base',\n",
       "  'checksum': 'a3d10f0633f9004c35afb445f6eaae98',\n",
       "  'container_format': 'bare',\n",
       "  'created_at': '2018-02-15T17:17:11Z',\n",
       "  'disk_format': 'qcow2',\n",
       "  'file': '/v2/images/165c65b6-5b49-4301-bfac-66b28f1bb1c4/file',\n",
       "  'id': '165c65b6-5b49-4301-bfac-66b28f1bb1c4',\n",
       "  'min_disk': 0,\n",
       "  'min_ram': 0,\n",
       "  'name': 'image-ubuntu-xenial-jenkins-cc-xenial-builder-35',\n",
       "  'owner': '17374548ca3e4a2b83dc877549b665ee',\n",
       "  'protected': False,\n",
       "  'schema': '/v2/schemas/image',\n",
       "  'self': '/v2/images/165c65b6-5b49-4301-bfac-66b28f1bb1c4',\n",
       "  'size': 706718720,\n",
       "  'status': 'active',\n",
       "  'tags': [],\n",
       "  'updated_at': '2018-02-15T17:17:15Z',\n",
       "  'virtual_size': None,\n",
       "  'visibility': 'private'}]"
      ]
     },
     "execution_count": 44,
     "metadata": {},
     "output_type": "execute_result"
    }
   ],
   "source": []
  },
  {
   "cell_type": "code",
   "execution_count": 4,
   "metadata": {
    "collapsed": false,
    "deletable": true,
    "editable": true
   },
   "outputs": [
    {
     "data": {
      "text/plain": [
       "[('archive', ('tacc', 'a64dec6d-54e6-4e5d-8fe6-03c939d46e96')),\n",
       " ('copypublish',\n",
       "  ('uc', '7c91e2a9-4846-407f-ab1d-f2954e98fa18'),\n",
       "  ('tacc', 'id-tacc')),\n",
       " ('archive', ('uc', 'b716162a-638e-4593-9587-c789a8367fdf')),\n",
       " ('copypublish',\n",
       "  ('uc', '7c91e2a9-4846-407f-ab1d-f2954e98fa18'),\n",
       "  ('uc', 'id-uc')),\n",
       " ('archive', ('kvm', '30adb881-f921-404d-a2de-cf530795b2aa')),\n",
       " ('copypublish',\n",
       "  ('uc', '7c91e2a9-4846-407f-ab1d-f2954e98fa18'),\n",
       "  ('kvm', 'id-kvm'))]"
      ]
     },
     "execution_count": 4,
     "metadata": {},
     "output_type": "execute_result"
    }
   ],
   "source": [
    "dist = ImageDistributor(auth, 'uc', 'ubuntu-xenial', 'base')\n",
    "dist.propose_work_order()"
   ]
  },
  {
   "cell_type": "code",
   "execution_count": 5,
   "metadata": {
    "collapsed": true,
    "deletable": true,
    "editable": true
   },
   "outputs": [],
   "source": [
    "past_centos = {\n",
    "    'tacc': {'id': '0f216b1f-7841-451b-8971-d383364e01a6'},\n",
    "    'uc': {'id': '2c16bd4a-8d77-4c56-ae5d-fca651147016'},\n",
    "    'kvm': {'id': 'dc59301a-8d0f-4125-a09f-8ae1965fda64'},\n",
    "}\n",
    "past_xenial = {\n",
    "    'tacc': {'id': 'a64dec6d-54e6-4e5d-8fe6-03c939d46e96'},\n",
    "    'uc': {'id': 'b716162a-638e-4593-9587-c789a8367fdf'},\n",
    "    'kvm': {'id': '30adb881-f921-404d-a2de-cf530795b2aa'},\n",
    "}\n",
    "new_centos = {\n",
    "    'tacc': {'id': '10adbb3b-ccd3-4e23-8623-b8df82073de9'},\n",
    "    'uc': {'id': '388ca9a2-c7d7-49ac-8f66-6b254a6951d4'},\n",
    "    'kvm': {'id': '053b3438-edb5-4d17-873f-525600b9d9a9'},\n",
    "}\n",
    "new_xenial = {\n",
    "    'tacc': {'id': 'd930e8b3-7b29-4d25-9a63-cefdc46d6bc4'},\n",
    "    'uc': {'id': '926d0ea3-6e47-40f3-87ba-596f3bbe56cc'},\n",
    "    'kvm': {'id': 'c80567e8-12f9-44fc-8335-f62831ee73a6'},\n",
    "}"
   ]
  },
  {
   "cell_type": "code",
   "execution_count": 52,
   "metadata": {
    "collapsed": false,
    "deletable": true,
    "editable": true
   },
   "outputs": [
    {
     "ename": "NameError",
     "evalue": "name 'past_centos' is not defined",
     "output_type": "error",
     "traceback": [
      "\u001b[0;31m---------------------------------------------------------------------------\u001b[0m",
      "\u001b[0;31mNameError\u001b[0m                                 Traceback (most recent call last)",
      "\u001b[0;32m<ipython-input-52-4357e6e0a823>\u001b[0m in \u001b[0;36m<module>\u001b[0;34m()\u001b[0m\n\u001b[0;32m----> 1\u001b[0;31m \u001b[0;32mfor\u001b[0m \u001b[0msite\u001b[0m\u001b[0;34m,\u001b[0m \u001b[0mimage\u001b[0m \u001b[0;32min\u001b[0m \u001b[0mpast_centos\u001b[0m\u001b[0;34m.\u001b[0m\u001b[0mitems\u001b[0m\u001b[0;34m(\u001b[0m\u001b[0;34m)\u001b[0m\u001b[0;34m:\u001b[0m\u001b[0;34m\u001b[0m\u001b[0m\n\u001b[0m\u001b[1;32m      2\u001b[0m \u001b[0;31m#     image['details'] = glance.image(auth[site], image['id'])\u001b[0m\u001b[0;34m\u001b[0m\u001b[0;34m\u001b[0m\u001b[0m\n\u001b[1;32m      3\u001b[0m \u001b[0;31m#     assert image['details']['name'] == 'CC-CentOS7'\u001b[0m\u001b[0;34m\u001b[0m\u001b[0;34m\u001b[0m\u001b[0m\n\u001b[1;32m      4\u001b[0m     glance.image_properties(auth[site], image['id'], add={\n\u001b[1;32m      5\u001b[0m         \u001b[0;34m'build-os'\u001b[0m\u001b[0;34m:\u001b[0m \u001b[0;34m'centos7'\u001b[0m\u001b[0;34m,\u001b[0m\u001b[0;34m\u001b[0m\u001b[0m\n",
      "\u001b[0;31mNameError\u001b[0m: name 'past_centos' is not defined"
     ]
    }
   ],
   "source": [
    "for site, image in past_centos.items():\n",
    "#     image['details'] = glance.image(auth[site], image['id'])\n",
    "#     assert image['details']['name'] == 'CC-CentOS7'\n",
    "    glance.image_properties(auth[site], image['id'], add={\n",
    "        'build-os': 'centos7',\n",
    "        'build-os-base-image-revision': '1612.0',\n",
    "    })\n",
    "    "
   ]
  },
  {
   "cell_type": "code",
   "execution_count": 30,
   "metadata": {
    "collapsed": true,
    "deletable": true,
    "editable": true
   },
   "outputs": [],
   "source": [
    "for site, image in past_xenial.items():\n",
    "    image['details'] = glance.image(auth[site], image['id'])\n",
    "    assert image['details']['name'] == 'CC-Ubuntu16.04'\n",
    "    glance.image_properties(auth[site], image['id'], add={\n",
    "        'build-os': 'ubuntu-xenial',\n",
    "        'build-os-base-image-revision': '20170410',\n",
    "    })"
   ]
  },
  {
   "cell_type": "markdown",
   "metadata": {
    "deletable": true,
    "editable": true
   },
   "source": [
    "## Find newest image"
   ]
  },
  {
   "cell_type": "code",
   "execution_count": 49,
   "metadata": {
    "collapsed": false,
    "deletable": true,
    "editable": true
   },
   "outputs": [
    {
     "name": "stdout",
     "output_type": "stream",
     "text": [
      "tacc\n",
      "00a2d3c7-22cc-4930-b8c0-38eef98a1d97 image-ubuntu-xenial-jenkins-cc-xenial-builder-17\n",
      "10adbb3b-ccd3-4e23-8623-b8df82073de9 CC-CentOS7\n",
      "\n",
      "uc\n",
      "926d0ea3-6e47-40f3-87ba-596f3bbe56cc CC-Ubuntu16.04\n",
      "388ca9a2-c7d7-49ac-8f66-6b254a6951d4 CC-CentOS7\n",
      "\n",
      "kvm\n",
      "c80567e8-12f9-44fc-8335-f62831ee73a6 CC-Ubuntu16.04\n",
      "053b3438-edb5-4d17-873f-525600b9d9a9 CC-CentOS7\n",
      "\n"
     ]
    }
   ],
   "source": [
    "for site in auth:\n",
    "    print(site)\n",
    "    images = glance.images(auth[site])\n",
    "\n",
    "    xenial = max((i for i in images if i.get('build-os') == 'ubuntu-xenial'), key=lambda i: i['created_at'])\n",
    "    centos = max((i for i in images if i.get('build-os') == 'centos7'), key=lambda i: i['created_at'])\n",
    "\n",
    "    print(xenial['id'], xenial['name'])\n",
    "    print(centos['id'], centos['name'])\n",
    "    print()"
   ]
  },
  {
   "cell_type": "code",
   "execution_count": 59,
   "metadata": {
    "collapsed": false,
    "deletable": true,
    "editable": true
   },
   "outputs": [
    {
     "data": {
      "text/plain": [
       "('00a2d3c7-22cc-4930-b8c0-38eef98a1d97',\n",
       " 'image-ubuntu-xenial-jenkins-cc-xenial-builder-17',\n",
       " 'ad7e4e1542ac60cb2ff18aeaaf45d285')"
      ]
     },
     "execution_count": 59,
     "metadata": {},
     "output_type": "execute_result"
    }
   ],
   "source": [
    "xenial = glance.image(auth['tacc'], '00a2d3c7-22cc-4930-b8c0-38eef98a1d97')\n",
    "xenial['id'], xenial['name'], xenial['checksum']"
   ]
  },
  {
   "cell_type": "markdown",
   "metadata": {
    "deletable": true,
    "editable": true
   },
   "source": [
    "## Properties to copy"
   ]
  },
  {
   "cell_type": "code",
   "execution_count": 53,
   "metadata": {
    "collapsed": false,
    "deletable": true,
    "editable": true,
    "scrolled": false
   },
   "outputs": [
    {
     "data": {
      "text/plain": [
       "{'architecture',\n",
       " 'base_image_ref',\n",
       " 'build-os',\n",
       " 'build-os-base-image-revision',\n",
       " 'build-repo',\n",
       " 'build-repo-commit',\n",
       " 'build-tag',\n",
       " 'build-variant',\n",
       " 'build_os',\n",
       " 'build_os_base_image_revision',\n",
       " 'build_repo',\n",
       " 'build_repo_commit',\n",
       " 'build_tag',\n",
       " 'build_variant',\n",
       " 'clean_attempts',\n",
       " 'description',\n",
       " 'image_location',\n",
       " 'image_state',\n",
       " 'image_type',\n",
       " 'instance_uuid',\n",
       " 'kernel_id',\n",
       " 'owner_id',\n",
       " 'ramdisk_id',\n",
       " 'user_id'}"
      ]
     },
     "execution_count": 53,
     "metadata": {},
     "output_type": "execute_result"
    }
   ],
   "source": [
    "iterprops = iter(set(i) for i in images)\n",
    "init = next(iterprops)\n",
    "\n",
    "always_props = set(init)\n",
    "all_props = set(init)\n",
    "\n",
    "for props in iterprops:\n",
    "    always_props &= props\n",
    "    all_props |= props\n",
    "    \n",
    "sometimes_props = all_props - always_props\n",
    "sometimes_props"
   ]
  },
  {
   "cell_type": "markdown",
   "metadata": {
    "deletable": true,
    "editable": true
   },
   "source": [
    "Looks like snapshots on KVM convert hyphens to underscores in the extra properties (`build-os` vs `build_os`). Meh."
   ]
  },
  {
   "cell_type": "code",
   "execution_count": 65,
   "metadata": {
    "collapsed": false,
    "deletable": true,
    "editable": true
   },
   "outputs": [],
   "source": []
  },
  {
   "cell_type": "code",
   "execution_count": 67,
   "metadata": {
    "collapsed": false,
    "deletable": true,
    "editable": true
   },
   "outputs": [
    {
     "data": {
      "text/plain": [
       "{'build-os': 'ubuntu-xenial',\n",
       " 'build-os-base-image-revision': '20171110',\n",
       " 'build-repo': 'https://github.com/ChameleonCloud/CC-Ubuntu16.04',\n",
       " 'build-repo-commit': '1b22c495f6c5c7e4c50a8728c05a28dbb7b829ab',\n",
       " 'build-tag': 'jenkins-cc-xenial-builder-17',\n",
       " 'build-variant': 'base'}"
      ]
     },
     "execution_count": 67,
     "metadata": {},
     "output_type": "execute_result"
    }
   ],
   "source": [
    "extract_extra_properties(xenial)"
   ]
  },
  {
   "cell_type": "markdown",
   "metadata": {
    "deletable": true,
    "editable": true
   },
   "source": [
    "# Site-to-site Transport"
   ]
  },
  {
   "cell_type": "code",
   "execution_count": 6,
   "metadata": {
    "collapsed": true,
    "deletable": true,
    "editable": true
   },
   "outputs": [],
   "source": [
    "import fabric.api as fapi\n",
    "import fabric.context_managers as fcm\n",
    "import fabric.network as fnet"
   ]
  },
  {
   "cell_type": "code",
   "execution_count": 7,
   "metadata": {
    "collapsed": true,
    "deletable": true,
    "editable": true
   },
   "outputs": [],
   "source": [
    "fapi.env['use_ssh_config'] = True\n",
    "fapi.env['abort_on_prompts'] = True\n",
    "fapi.env['host_string'] = 'chi01'"
   ]
  },
  {
   "cell_type": "code",
   "execution_count": 8,
   "metadata": {
    "collapsed": false,
    "deletable": true,
    "editable": true
   },
   "outputs": [],
   "source": [
    "fnet.disconnect_all()"
   ]
  },
  {
   "cell_type": "code",
   "execution_count": 9,
   "metadata": {
    "collapsed": false,
    "deletable": true,
    "editable": true
   },
   "outputs": [],
   "source": [
    "def copy_image(source_auth, target_auth, source_image_id, public=None, tempfile=None):\n",
    "fap"
   ]
  },
  {
   "cell_type": "markdown",
   "metadata": {
    "deletable": true,
    "editable": true
   },
   "source": [
    "Copy to all the sites!"
   ]
  },
  {
   "cell_type": "code",
   "execution_count": 16,
   "metadata": {
    "collapsed": false,
    "deletable": true,
    "editable": true
   },
   "outputs": [
    {
     "name": "stdout",
     "output_type": "stream",
     "text": [
      "uc to tacc...done.\n",
      "uc to kvm...done.\n",
      "self-copy too.\n"
     ]
    }
   ],
   "source": [
    "SOURCE_IMAGE_ID = '9c3bb18b-8171-4f64-9bf0-baef96d8e616'\n",
    "SOURCE_SITE = 'uc'\n",
    "\n",
    "targets = [s for s in auth if s != SOURCE_SITE]\n",
    "\n",
    "new_images = {SOURCE_SITE: glance.image(auth[SOURCE_SITE], SOURCE_IMAGE_ID)}\n",
    "for target in targets:\n",
    "    print(f'{SOURCE_SITE} to {target}...', end='')\n",
    "    new_image = copy_image(auth[SOURCE_SITE], auth[target], SOURCE_IMAGE_ID)\n",
    "    new_images[target] = new_image\n",
    "    print('done.')\n",
    "\n",
    "# copy-to-self to fix owner\n",
    "new_images[SOURCE_SITE] = copy_image(auth[SOURCE_SITE], auth[SOURCE_SITE], SOURCE_IMAGE_ID)\n",
    "print('self-copy too.')"
   ]
  },
  {
   "cell_type": "code",
   "execution_count": 17,
   "metadata": {
    "collapsed": false,
    "deletable": true,
    "editable": true
   },
   "outputs": [
    {
     "data": {
      "text/plain": [
       "{'kvm': {'build-os': 'ubuntu-trusty',\n",
       "  'build-os-base-image-revision': '20180206',\n",
       "  'build-repo': 'https://github.com/ChameleonCloud/CC-Ubuntu16.04',\n",
       "  'build-repo-commit': 'ea2b696cc7ddc7357f0a95a460c129d4ef553ce7',\n",
       "  'build-tag': 'jenkins-cc-trusty-builder-9',\n",
       "  'build-variant': 'base',\n",
       "  'checksum': '6d2cce71daad2d80d2b1f1d05bddebd6',\n",
       "  'container_format': 'bare',\n",
       "  'created_at': '2018-02-09T22:38:15Z',\n",
       "  'disk_format': 'qcow2',\n",
       "  'file': '/v2/images/a8eeead0-5991-4a21-8746-02527e5ed085/file',\n",
       "  'id': 'a8eeead0-5991-4a21-8746-02527e5ed085',\n",
       "  'min_disk': 0,\n",
       "  'min_ram': 0,\n",
       "  'name': 'image-ubuntu-trusty-jenkins-cc-trusty-builder-9',\n",
       "  'owner': 'openstack',\n",
       "  'protected': False,\n",
       "  'schema': '/v2/schemas/image',\n",
       "  'self': '/v2/images/a8eeead0-5991-4a21-8746-02527e5ed085',\n",
       "  'size': 527789056,\n",
       "  'status': 'active',\n",
       "  'tags': [],\n",
       "  'updated_at': '2018-02-09T22:38:18Z',\n",
       "  'virtual_size': None,\n",
       "  'visibility': 'private'},\n",
       " 'tacc': {'build-os': 'ubuntu-trusty',\n",
       "  'build-os-base-image-revision': '20180206',\n",
       "  'build-repo': 'https://github.com/ChameleonCloud/CC-Ubuntu16.04',\n",
       "  'build-repo-commit': 'ea2b696cc7ddc7357f0a95a460c129d4ef553ce7',\n",
       "  'build-tag': 'jenkins-cc-trusty-builder-9',\n",
       "  'build-variant': 'base',\n",
       "  'checksum': '6d2cce71daad2d80d2b1f1d05bddebd6',\n",
       "  'container_format': 'bare',\n",
       "  'created_at': '2018-02-09T22:37:51Z',\n",
       "  'disk_format': 'qcow2',\n",
       "  'file': '/v2/images/285fe1dc-b758-4758-a00b-d9c5ab57f76f/file',\n",
       "  'id': '285fe1dc-b758-4758-a00b-d9c5ab57f76f',\n",
       "  'min_disk': 0,\n",
       "  'min_ram': 0,\n",
       "  'name': 'image-ubuntu-trusty-jenkins-cc-trusty-builder-9',\n",
       "  'owner': '570aad8999f7499db99eae22fe9b29bb',\n",
       "  'protected': False,\n",
       "  'schema': '/v2/schemas/image',\n",
       "  'self': '/v2/images/285fe1dc-b758-4758-a00b-d9c5ab57f76f',\n",
       "  'size': 527789056,\n",
       "  'status': 'active',\n",
       "  'tags': [],\n",
       "  'updated_at': '2018-02-09T22:38:07Z',\n",
       "  'virtual_size': None,\n",
       "  'visibility': 'private'},\n",
       " 'uc': {'build-os': 'ubuntu-trusty',\n",
       "  'build-os-base-image-revision': '20180206',\n",
       "  'build-repo': 'https://github.com/ChameleonCloud/CC-Ubuntu16.04',\n",
       "  'build-repo-commit': 'ea2b696cc7ddc7357f0a95a460c129d4ef553ce7',\n",
       "  'build-tag': 'jenkins-cc-trusty-builder-9',\n",
       "  'build-variant': 'base',\n",
       "  'checksum': '6d2cce71daad2d80d2b1f1d05bddebd6',\n",
       "  'container_format': 'bare',\n",
       "  'created_at': '2018-02-09T22:38:26Z',\n",
       "  'disk_format': 'qcow2',\n",
       "  'file': '/v2/images/5a850dc8-1a56-4c54-84ab-c96626f70635/file',\n",
       "  'id': '5a850dc8-1a56-4c54-84ab-c96626f70635',\n",
       "  'min_disk': 0,\n",
       "  'min_ram': 0,\n",
       "  'name': 'image-ubuntu-trusty-jenkins-cc-trusty-builder-9',\n",
       "  'owner': 'cdf92cfdf4c5422cb2ead2d8a8ca2ae7',\n",
       "  'protected': False,\n",
       "  'schema': '/v2/schemas/image',\n",
       "  'self': '/v2/images/5a850dc8-1a56-4c54-84ab-c96626f70635',\n",
       "  'size': 527789056,\n",
       "  'status': 'active',\n",
       "  'tags': [],\n",
       "  'updated_at': '2018-02-09T22:38:35Z',\n",
       "  'virtual_size': None,\n",
       "  'visibility': 'private'}}"
      ]
     },
     "execution_count": 17,
     "metadata": {},
     "output_type": "execute_result"
    }
   ],
   "source": [
    "new_images"
   ]
  },
  {
   "cell_type": "code",
   "execution_count": 12,
   "metadata": {
    "collapsed": false,
    "deletable": true,
    "editable": true
   },
   "outputs": [],
   "source": [
    "def single(iterable):\n",
    "    '''Guarantee there is only one value in *iterable* and returns it'''\n",
    "    it = iter(iterable)\n",
    "    try:\n",
    "        val = next(it)\n",
    "    except StopIteration:\n",
    "        raise ValueError('no items in iterable')\n",
    "\n",
    "    try:\n",
    "        next(it)\n",
    "    except StopIteration:\n",
    "        pass\n",
    "    else:\n",
    "        raise ValueError('more than one item in the iterable')\n",
    "    return val\n",
    "\n",
    "def single(iterable):\n",
    "    '''Guarantee there is only one value in *iterable* and returns it'''\n",
    "    val, = iterable # a bit more opaque...\n",
    "    return val\n",
    "\n",
    "def all_equal(iterable):\n",
    "    it = iter(iterable)\n",
    "    try:\n",
    "        val = next(it)\n",
    "    except StopIteration:\n",
    "        return True\n",
    "    for item in it:\n",
    "        if val != item:\n",
    "            return False\n",
    "    return True\n",
    "\n",
    "assert single('x') == 'x'\n",
    "assert single(['hey']) == 'hey'\n",
    "assert single(range(1)) == 0\n",
    "assert single({'a': 'b'}) == 'a'\n",
    "assert single({'c'}) == 'c'\n",
    "for fail in [[], '', {'x', 'y', 'z'}, [1, 2, 3], iter([]), range(0), range(int(1e10)), 'hello']:\n",
    "    try:\n",
    "        single(fail)\n",
    "    except ValueError as e:\n",
    "        pass\n",
    "\n",
    "for should_be_true in [[], [1], [2, 2.0], 'aaa', range(0), range(1)]:\n",
    "    assert all_equal(should_be_true)\n",
    "for should_be_false in [[1, 2, 3], 'abc', range(2)]:\n",
    "    assert not all_equal(should_be_false)\n",
    "for should_not_trap in [(x[3] for x in 'something')]:\n",
    "    try:\n",
    "        all_equal(should_not_trap)\n",
    "    except Exception as e:\n",
    "        pass\n",
    "    else:\n",
    "        assert False"
   ]
  },
  {
   "cell_type": "code",
   "execution_count": 18,
   "metadata": {
    "collapsed": false,
    "deletable": true,
    "editable": true
   },
   "outputs": [
    {
     "data": {
      "text/plain": [
       "{'kvm': {'checksum': '6b3675d3ec01bfff6b0a2e7346b9c4c2',\n",
       "  'container_format': 'bare',\n",
       "  'created_at': '2016-12-23T18:02:51Z',\n",
       "  'disk_format': 'qcow2',\n",
       "  'file': '/v2/images/bf5232fb-648b-4a75-a45d-c1b9fec3a02a/file',\n",
       "  'id': 'bf5232fb-648b-4a75-a45d-c1b9fec3a02a',\n",
       "  'min_disk': 0,\n",
       "  'min_ram': 0,\n",
       "  'name': 'CC-Ubuntu14.04',\n",
       "  'owner': 'openstack',\n",
       "  'protected': False,\n",
       "  'schema': '/v2/schemas/image',\n",
       "  'self': '/v2/images/bf5232fb-648b-4a75-a45d-c1b9fec3a02a',\n",
       "  'size': 526712832,\n",
       "  'status': 'active',\n",
       "  'tags': [],\n",
       "  'updated_at': '2016-12-23T20:15:07Z',\n",
       "  'virtual_size': None,\n",
       "  'visibility': 'public'},\n",
       " 'tacc': {'checksum': '6b3675d3ec01bfff6b0a2e7346b9c4c2',\n",
       "  'container_format': 'bare',\n",
       "  'created_at': '2016-12-23T17:26:31Z',\n",
       "  'disk_format': 'qcow2',\n",
       "  'file': '/v2/images/fc5ef426-bb94-471d-8875-9a662f6c3c92/file',\n",
       "  'id': 'fc5ef426-bb94-471d-8875-9a662f6c3c92',\n",
       "  'min_disk': 0,\n",
       "  'min_ram': 0,\n",
       "  'name': 'CC-Ubuntu14.04',\n",
       "  'owner': '570aad8999f7499db99eae22fe9b29bb',\n",
       "  'protected': False,\n",
       "  'schema': '/v2/schemas/image',\n",
       "  'self': '/v2/images/fc5ef426-bb94-471d-8875-9a662f6c3c92',\n",
       "  'size': 526712832,\n",
       "  'status': 'active',\n",
       "  'tags': [],\n",
       "  'updated_at': '2016-12-23T20:23:08Z',\n",
       "  'virtual_size': None,\n",
       "  'visibility': 'public'},\n",
       " 'uc': {'checksum': '6b3675d3ec01bfff6b0a2e7346b9c4c2',\n",
       "  'container_format': 'bare',\n",
       "  'created_at': '2016-12-23T17:26:06Z',\n",
       "  'disk_format': 'qcow2',\n",
       "  'file': '/v2/images/ad3617e5-99fc-4727-9949-b0107ffc71a6/file',\n",
       "  'id': 'ad3617e5-99fc-4727-9949-b0107ffc71a6',\n",
       "  'min_disk': 0,\n",
       "  'min_ram': 0,\n",
       "  'name': 'CC-Ubuntu14.04',\n",
       "  'owner': 'cdf92cfdf4c5422cb2ead2d8a8ca2ae7',\n",
       "  'protected': False,\n",
       "  'schema': '/v2/schemas/image',\n",
       "  'self': '/v2/images/ad3617e5-99fc-4727-9949-b0107ffc71a6',\n",
       "  'size': 526712832,\n",
       "  'status': 'active',\n",
       "  'tags': [],\n",
       "  'updated_at': '2016-12-23T19:23:16Z',\n",
       "  'virtual_size': None,\n",
       "  'visibility': 'public'}}"
      ]
     },
     "execution_count": 18,
     "metadata": {},
     "output_type": "execute_result"
    }
   ],
   "source": [
    "current_name = 'CC-Ubuntu14.04'\n",
    "current_images = {\n",
    "    site: single(glance.images(auth[site], {'name': current_name, 'visibility': 'public'}))\n",
    "    for site in auth\n",
    "}\n",
    "assert all_equal(i['checksum'] for i in current_images.values())\n",
    "current_images"
   ]
  },
  {
   "cell_type": "markdown",
   "metadata": {
    "collapsed": true,
    "deletable": true,
    "editable": true
   },
   "source": [
    "# Swap Image Names"
   ]
  },
  {
   "cell_type": "code",
   "execution_count": 19,
   "metadata": {
    "collapsed": false,
    "deletable": true,
    "editable": true,
    "scrolled": true
   },
   "outputs": [
    {
     "ename": "KeyError",
     "evalue": "'build-os'",
     "output_type": "error",
     "traceback": [
      "\u001b[0;31m---------------------------------------------------------------------------\u001b[0m",
      "\u001b[0;31mKeyError\u001b[0m                                  Traceback (most recent call last)",
      "\u001b[0;32m<ipython-input-19-9b658cd9033d>\u001b[0m in \u001b[0;36m<module>\u001b[0;34m()\u001b[0m\n\u001b[0;32m----> 1\u001b[0;31m \u001b[0mprint\u001b[0m\u001b[0;34m(\u001b[0m\u001b[0marchival_name\u001b[0m\u001b[0;34m(\u001b[0m\u001b[0mcurrent_images\u001b[0m\u001b[0;34m[\u001b[0m\u001b[0;34m'tacc'\u001b[0m\u001b[0;34m]\u001b[0m\u001b[0;34m)\u001b[0m\u001b[0;34m)\u001b[0m\u001b[0;34m\u001b[0m\u001b[0m\n\u001b[0m\u001b[1;32m      2\u001b[0m \u001b[0mprint\u001b[0m\u001b[0;34m(\u001b[0m\u001b[0mproduction_name\u001b[0m\u001b[0;34m(\u001b[0m\u001b[0mnew_images\u001b[0m\u001b[0;34m[\u001b[0m\u001b[0;34m'tacc'\u001b[0m\u001b[0;34m]\u001b[0m\u001b[0;34m)\u001b[0m\u001b[0;34m)\u001b[0m\u001b[0;34m\u001b[0m\u001b[0m\n\u001b[1;32m      3\u001b[0m \u001b[0;32massert\u001b[0m \u001b[0mproduction_name\u001b[0m\u001b[0;34m(\u001b[0m\u001b[0mnew_images\u001b[0m\u001b[0;34m[\u001b[0m\u001b[0;34m'tacc'\u001b[0m\u001b[0;34m]\u001b[0m\u001b[0;34m)\u001b[0m \u001b[0;34m==\u001b[0m \u001b[0mcurrent_images\u001b[0m\u001b[0;34m[\u001b[0m\u001b[0;34m'tacc'\u001b[0m\u001b[0;34m]\u001b[0m\u001b[0;34m[\u001b[0m\u001b[0;34m'name'\u001b[0m\u001b[0;34m]\u001b[0m\u001b[0;34m\u001b[0m\u001b[0m\n",
      "\u001b[0;32m<ipython-input-10-989b32000f06>\u001b[0m in \u001b[0;36marchival_name\u001b[0;34m(image, os, variant)\u001b[0m\n\u001b[1;32m     26\u001b[0m \u001b[0;34m\u001b[0m\u001b[0m\n\u001b[1;32m     27\u001b[0m \u001b[0;32mdef\u001b[0m \u001b[0marchival_name\u001b[0m\u001b[0;34m(\u001b[0m\u001b[0mimage\u001b[0m\u001b[0;34m=\u001b[0m\u001b[0;32mNone\u001b[0m\u001b[0;34m,\u001b[0m \u001b[0mos\u001b[0m\u001b[0;34m=\u001b[0m\u001b[0;32mNone\u001b[0m\u001b[0;34m,\u001b[0m \u001b[0mvariant\u001b[0m\u001b[0;34m=\u001b[0m\u001b[0;32mNone\u001b[0m\u001b[0;34m)\u001b[0m\u001b[0;34m:\u001b[0m\u001b[0;34m\u001b[0m\u001b[0m\n\u001b[0;32m---> 28\u001b[0;31m     \u001b[0;32mreturn\u001b[0m \u001b[0;34m'{}-{}'\u001b[0m\u001b[0;34m.\u001b[0m\u001b[0mformat\u001b[0m\u001b[0;34m(\u001b[0m\u001b[0mproduction_name\u001b[0m\u001b[0;34m(\u001b[0m\u001b[0mimage\u001b[0m\u001b[0;34m,\u001b[0m \u001b[0mos\u001b[0m\u001b[0;34m,\u001b[0m \u001b[0mvariant\u001b[0m\u001b[0;34m)\u001b[0m\u001b[0;34m,\u001b[0m \u001b[0mimage\u001b[0m\u001b[0;34m[\u001b[0m\u001b[0;34m'build-os-base-image-revision'\u001b[0m\u001b[0;34m]\u001b[0m\u001b[0;34m)\u001b[0m\u001b[0;34m\u001b[0m\u001b[0m\n\u001b[0m\u001b[1;32m     29\u001b[0m \u001b[0;34m\u001b[0m\u001b[0m\n\u001b[1;32m     30\u001b[0m \u001b[0;34m\u001b[0m\u001b[0m\n",
      "\u001b[0;32m<ipython-input-10-989b32000f06>\u001b[0m in \u001b[0;36mproduction_name\u001b[0;34m(image, os, variant)\u001b[0m\n\u001b[1;32m     14\u001b[0m         \u001b[0;32mif\u001b[0m \u001b[0mimage\u001b[0m \u001b[0;32mis\u001b[0m \u001b[0;32mNone\u001b[0m\u001b[0;34m:\u001b[0m\u001b[0;34m\u001b[0m\u001b[0m\n\u001b[1;32m     15\u001b[0m             \u001b[0;32mraise\u001b[0m \u001b[0mValueError\u001b[0m\u001b[0;34m(\u001b[0m\u001b[0;34m'must provide image or os/variant'\u001b[0m\u001b[0;34m)\u001b[0m\u001b[0;34m\u001b[0m\u001b[0m\n\u001b[0;32m---> 16\u001b[0;31m         \u001b[0mos\u001b[0m \u001b[0;34m=\u001b[0m \u001b[0mimage\u001b[0m\u001b[0;34m[\u001b[0m\u001b[0;34m'build-os'\u001b[0m\u001b[0;34m]\u001b[0m\u001b[0;34m\u001b[0m\u001b[0m\n\u001b[0m\u001b[1;32m     17\u001b[0m         \u001b[0mvariant\u001b[0m \u001b[0;34m=\u001b[0m \u001b[0mimage\u001b[0m\u001b[0;34m[\u001b[0m\u001b[0;34m'build-variant'\u001b[0m\u001b[0;34m]\u001b[0m\u001b[0;34m\u001b[0m\u001b[0m\n\u001b[1;32m     18\u001b[0m     \u001b[0;32melif\u001b[0m \u001b[0mos\u001b[0m \u001b[0;32mis\u001b[0m \u001b[0;32mNone\u001b[0m \u001b[0;32mor\u001b[0m \u001b[0mvariant\u001b[0m \u001b[0;32mis\u001b[0m \u001b[0;32mNone\u001b[0m\u001b[0;34m:\u001b[0m\u001b[0;34m\u001b[0m\u001b[0m\n",
      "\u001b[0;31mKeyError\u001b[0m: 'build-os'"
     ]
    }
   ],
   "source": [
    "print(archival_name(current_images['tacc']))\n",
    "print(production_name(new_images['tacc']))\n",
    "assert production_name(new_images['tacc']) == current_images['tacc']['name']"
   ]
  },
  {
   "cell_type": "code",
   "execution_count": 22,
   "metadata": {
    "collapsed": false,
    "deletable": true,
    "editable": true
   },
   "outputs": [
    {
     "name": "stdout",
     "output_type": "stream",
     "text": [
      "New CC-Ubuntu16.04 IDs\n",
      "---\n",
      " tacc : 285fe1dc-b758-4758-a00b-d9c5ab57f76f\n",
      "   uc : 5a850dc8-1a56-4c54-84ab-c96626f70635\n",
      "  kvm : a8eeead0-5991-4a21-8746-02527e5ed085\n"
     ]
    }
   ],
   "source": [
    "# assert all_equal(x.keys() for x in [auth, new_images, current_images])\n",
    "# for site in auth:\n",
    "#     # sanity check (no kill like overkill)\n",
    "#     current = glance.image(auth[site], current_images[site]['id'])\n",
    "#     assert current['id'] == current_images[site]['id']\n",
    "#     assert current['checksum'] == current_images[site]['checksum']\n",
    "\n",
    "#     new = glance.image(auth[site], new_images[site]['id'])\n",
    "#     assert new['id'] == new_images[site]['id']\n",
    "#     assert new['checksum'] == new_images[site]['checksum']\n",
    "    \n",
    "#     for k in ['build-os', 'build-variant', 'owner']:\n",
    "#         assert new[k] == current[k], '{}: \"{}\" vs \"{}\"'.format(k, new[k], current[k])\n",
    "    \n",
    "#     new_prod_name = production_name(new)\n",
    "#     assert new_prod_name == current['name']\n",
    "\n",
    "print('New {} IDs\\n---'.format(new_prod_name))\n",
    "for site in auth:\n",
    "    # rename old image\n",
    "    current = current_images[site]\n",
    "    new = new_images[site]\n",
    "\n",
    "#     current_archival_name = archival_name(current)\n",
    "    current_archival_name = 'CC-Ubuntu14.04-20161213'\n",
    "    new_production_name = production_name(new)\n",
    "    \n",
    "    glance.image_properties(auth[site], current['id'], replace={'name': current_archival_name})\n",
    "    glance.image_properties(auth[site], new['id'], replace={'name': new_production_name, 'visibility': 'public'})\n",
    "    \n",
    "    print('{:>5s} : {}'.format(site, new['id']))"
   ]
  },
  {
   "cell_type": "markdown",
   "metadata": {
    "deletable": true,
    "editable": true
   },
   "source": [
    "Update IDs in catalog:\n",
    "* [CC-CentOS7](https://www.chameleoncloud.org/appliances/1/edit/)\n",
    "  * [-CUDA](https://www.chameleoncloud.org/appliances/37/edit/)\n",
    "  * [-FPGA](https://www.chameleoncloud.org/appliances/32/edit/)\n",
    "* [CC-Ubuntu16.04](https://www.chameleoncloud.org/appliances/19/edit/)\n",
    "  * [-CUDA](https://www.chameleoncloud.org/appliances/40/edit/)\n",
    "* [CC-Ubuntu14.04](https://www.chameleoncloud.org/appliances/13/edit/)"
   ]
  },
  {
   "cell_type": "markdown",
   "metadata": {
    "collapsed": true,
    "deletable": true,
    "editable": true
   },
   "source": [
    "### A quick 1-off release-candidate (no NVLinks free right now)"
   ]
  },
  {
   "cell_type": "code",
   "execution_count": 154,
   "metadata": {
    "collapsed": false,
    "deletable": true,
    "editable": true
   },
   "outputs": [
    {
     "name": "stdout",
     "output_type": "stream",
     "text": [
      "[m01-07] run: rm -f /tmp/imgtransfer-d9889f7bb6e5\n"
     ]
    },
    {
     "data": {
      "text/plain": [
       "{'build-os': 'ubuntu-xenial',\n",
       " 'build-os-base-image-revision': '20171110',\n",
       " 'build-repo': 'https://github.com/ChameleonCloud/CC-Ubuntu16.04',\n",
       " 'build-repo-commit': '1b22c495f6c5c7e4c50a8728c05a28dbb7b829ab',\n",
       " 'build-tag': 'jenkins-cc-xenial-cuda-builder-9',\n",
       " 'build-variant': 'gpu',\n",
       " 'checksum': 'af23a781e5ed04947edf074f2fd5d01c',\n",
       " 'container_format': 'bare',\n",
       " 'created_at': '2017-11-13T23:25:41Z',\n",
       " 'disk_format': 'qcow2',\n",
       " 'file': '/v2/images/97f5871b-43e7-4be5-8554-a84c955abb35/file',\n",
       " 'id': '97f5871b-43e7-4be5-8554-a84c955abb35',\n",
       " 'min_disk': 0,\n",
       " 'min_ram': 0,\n",
       " 'name': 'rc-CC-Ubuntu16.04-CUDA8',\n",
       " 'owner': '570aad8999f7499db99eae22fe9b29bb',\n",
       " 'protected': False,\n",
       " 'schema': '/v2/schemas/image',\n",
       " 'self': '/v2/images/97f5871b-43e7-4be5-8554-a84c955abb35',\n",
       " 'size': 2375090176,\n",
       " 'status': 'active',\n",
       " 'tags': [],\n",
       " 'updated_at': '2017-11-13T23:26:03Z',\n",
       " 'virtual_size': None,\n",
       " 'visibility': 'public'}"
      ]
     },
     "execution_count": 154,
     "metadata": {},
     "output_type": "execute_result"
    }
   ],
   "source": [
    "cuda_id = 'da2c1bfb-23de-48d0-a748-a4a753739e83'\n",
    "new_image = copy_image(auth['tacc'], auth['tacc'], cuda_id) # new owner\n",
    "glance.image_properties(auth['tacc'], new_image['id'], replace={\n",
    "    'name': 'rc-' + production_name(new_image), \n",
    "    'visibility': 'public',\n",
    "})"
   ]
  },
  {
   "cell_type": "code",
   "execution_count": 39,
   "metadata": {
    "collapsed": false,
    "deletable": true,
    "editable": true
   },
   "outputs": [
    {
     "data": {
      "text/plain": [
       "'a481ee63-19ce-438e-bee9-d244633086db'"
      ]
     },
     "execution_count": 39,
     "metadata": {},
     "output_type": "execute_result"
    }
   ],
   "source": []
  },
  {
   "cell_type": "code",
   "execution_count": 48,
   "metadata": {
    "collapsed": false,
    "deletable": true,
    "editable": true
   },
   "outputs": [
    {
     "data": {
      "text/plain": [
       "{'build-os': 'ubuntu-trusty',\n",
       " 'build-os-base-image-revision': '20171213',\n",
       " 'build-repo': 'https://github.com/ChameleonCloud/CC-Ubuntu16.04',\n",
       " 'build-repo-commit': 'bcd3c4e6fd30459d65f28b83b911c87964c9c577',\n",
       " 'build-tag': 'jenkins-cc-trusty-builder-7',\n",
       " 'build-variant': 'base',\n",
       " 'checksum': '0fdd52a592400e6479752f6375d3bfc4',\n",
       " 'container_format': 'bare',\n",
       " 'created_at': '2018-01-06T00:49:53Z',\n",
       " 'disk_format': 'qcow2',\n",
       " 'file': '/v2/images/a34d43d5-1f91-4b2c-ad15-cf3e208bccec/file',\n",
       " 'id': 'a34d43d5-1f91-4b2c-ad15-cf3e208bccec',\n",
       " 'min_disk': 0,\n",
       " 'min_ram': 0,\n",
       " 'name': 'image-ubuntu-trusty-jenkins-cc-trusty-builder-7',\n",
       " 'owner': '570aad8999f7499db99eae22fe9b29bb',\n",
       " 'protected': False,\n",
       " 'schema': '/v2/schemas/image',\n",
       " 'self': '/v2/images/a34d43d5-1f91-4b2c-ad15-cf3e208bccec',\n",
       " 'size': 526903808,\n",
       " 'status': 'active',\n",
       " 'tags': [],\n",
       " 'updated_at': '2018-01-06T00:49:58Z',\n",
       " 'virtual_size': None,\n",
       " 'visibility': 'private'}"
      ]
     },
     "execution_count": 48,
     "metadata": {},
     "output_type": "execute_result"
    }
   ],
   "source": [
    "copy_image(\n",
    "    auth['uc'], auth['tacc'], \n",
    "    'fec1e6da-f172-484c-92d9-80d27b1c1bdf',\n",
    ")"
   ]
  },
  {
   "cell_type": "code",
   "execution_count": 47,
   "metadata": {
    "collapsed": false,
    "deletable": true,
    "editable": true
   },
   "outputs": [
    {
     "data": {
      "text/plain": [
       "[{'build-os': 'ubuntu-trusty',\n",
       "  'build-os-base-image-revision': '20171213',\n",
       "  'build-repo': 'https://github.com/ChameleonCloud/CC-Ubuntu16.04',\n",
       "  'build-repo-commit': 'bcd3c4e6fd30459d65f28b83b911c87964c9c577',\n",
       "  'build-tag': 'jenkins-cc-trusty-builder-7',\n",
       "  'build-variant': 'base',\n",
       "  'checksum': '0fdd52a592400e6479752f6375d3bfc4',\n",
       "  'container_format': 'bare',\n",
       "  'created_at': '2018-01-05T03:43:24Z',\n",
       "  'disk_format': 'qcow2',\n",
       "  'file': '/v2/images/fec1e6da-f172-484c-92d9-80d27b1c1bdf/file',\n",
       "  'id': 'fec1e6da-f172-484c-92d9-80d27b1c1bdf',\n",
       "  'min_disk': 0,\n",
       "  'min_ram': 0,\n",
       "  'name': 'image-ubuntu-trusty-jenkins-cc-trusty-builder-7',\n",
       "  'owner': '17374548ca3e4a2b83dc877549b665ee',\n",
       "  'protected': False,\n",
       "  'schema': '/v2/schemas/image',\n",
       "  'self': '/v2/images/fec1e6da-f172-484c-92d9-80d27b1c1bdf',\n",
       "  'size': 526903808,\n",
       "  'status': 'active',\n",
       "  'tags': [],\n",
       "  'updated_at': '2018-01-05T03:43:26Z',\n",
       "  'virtual_size': None,\n",
       "  'visibility': 'private'},\n",
       " {'build-os': 'ubuntu-trusty',\n",
       "  'build-os-base-image-revision': '20171213',\n",
       "  'build-repo': 'https://github.com/ChameleonCloud/CC-Ubuntu16.04',\n",
       "  'build-repo-commit': '460397046e124718290b5bc540ac78906c358802',\n",
       "  'build-tag': 'jenkins-cc-trusty-builder-6',\n",
       "  'build-variant': 'base',\n",
       "  'checksum': '8d5d06702fd5bcd2704128c0542e9a1c',\n",
       "  'container_format': 'bare',\n",
       "  'created_at': '2018-01-05T00:39:06Z',\n",
       "  'disk_format': 'qcow2',\n",
       "  'file': '/v2/images/0aef7dbd-7974-4bde-bfc0-20c31cb2afe9/file',\n",
       "  'id': '0aef7dbd-7974-4bde-bfc0-20c31cb2afe9',\n",
       "  'min_disk': 0,\n",
       "  'min_ram': 0,\n",
       "  'name': 'image-ubuntu-trusty-jenkins-cc-trusty-builder-6',\n",
       "  'owner': '17374548ca3e4a2b83dc877549b665ee',\n",
       "  'protected': False,\n",
       "  'schema': '/v2/schemas/image',\n",
       "  'self': '/v2/images/0aef7dbd-7974-4bde-bfc0-20c31cb2afe9',\n",
       "  'size': 526761984,\n",
       "  'status': 'active',\n",
       "  'tags': [],\n",
       "  'updated_at': '2018-01-05T00:39:09Z',\n",
       "  'virtual_size': None,\n",
       "  'visibility': 'private'},\n",
       " {'build-os': 'ubuntu-trusty',\n",
       "  'build-os-base-image-revision': '20171213',\n",
       "  'build-repo': 'https://github.com/ChameleonCloud/CC-Ubuntu16.04',\n",
       "  'build-repo-commit': '51c759b61accfa39c19d7302a23b0ce8fed18f87',\n",
       "  'build-tag': 'jenkins-cc-trusty-builder-5',\n",
       "  'build-variant': 'base',\n",
       "  'checksum': '056e48ea09b750b71d9031746c16885b',\n",
       "  'container_format': 'bare',\n",
       "  'created_at': '2018-01-03T23:26:02Z',\n",
       "  'disk_format': 'qcow2',\n",
       "  'file': '/v2/images/a481ee63-19ce-438e-bee9-d244633086db/file',\n",
       "  'id': 'a481ee63-19ce-438e-bee9-d244633086db',\n",
       "  'min_disk': 0,\n",
       "  'min_ram': 0,\n",
       "  'name': 'image-ubuntu-trusty-jenkins-cc-trusty-builder-5',\n",
       "  'owner': '17374548ca3e4a2b83dc877549b665ee',\n",
       "  'protected': False,\n",
       "  'schema': '/v2/schemas/image',\n",
       "  'self': '/v2/images/a481ee63-19ce-438e-bee9-d244633086db',\n",
       "  'size': 526863360,\n",
       "  'status': 'active',\n",
       "  'tags': [],\n",
       "  'updated_at': '2018-01-03T23:26:05Z',\n",
       "  'virtual_size': None,\n",
       "  'visibility': 'private'}]"
      ]
     },
     "execution_count": 47,
     "metadata": {},
     "output_type": "execute_result"
    }
   ],
   "source": [
    "glance.images(auth['uc'], query={'build-os': 'ubuntu-trusty'})"
   ]
  },
  {
   "cell_type": "code",
   "execution_count": 44,
   "metadata": {
    "collapsed": false,
    "deletable": true,
    "editable": true
   },
   "outputs": [
    {
     "data": {
      "text/plain": [
       "{'build-os': 'ubuntu-xenial',\n",
       " 'build-os-base-image-revision': '20171110',\n",
       " 'build-repo': 'https://github.com/ChameleonCloud/CC-Ubuntu16.04',\n",
       " 'build-repo-commit': '1b22c495f6c5c7e4c50a8728c05a28dbb7b829ab',\n",
       " 'build-tag': 'jenkins-cc-xenial-cuda-builder-9',\n",
       " 'build-variant': 'gpu',\n",
       " 'checksum': 'af23a781e5ed04947edf074f2fd5d01c',\n",
       " 'container_format': 'bare',\n",
       " 'created_at': '2017-11-13T23:25:41Z',\n",
       " 'disk_format': 'qcow2',\n",
       " 'file': '/v2/images/97f5871b-43e7-4be5-8554-a84c955abb35/file',\n",
       " 'id': '97f5871b-43e7-4be5-8554-a84c955abb35',\n",
       " 'min_disk': 0,\n",
       " 'min_ram': 0,\n",
       " 'name': 'CC-Ubuntu16.04-CUDA8-20171110',\n",
       " 'owner': '570aad8999f7499db99eae22fe9b29bb',\n",
       " 'protected': False,\n",
       " 'schema': '/v2/schemas/image',\n",
       " 'self': '/v2/images/97f5871b-43e7-4be5-8554-a84c955abb35',\n",
       " 'size': 2375090176,\n",
       " 'status': 'active',\n",
       " 'tags': [],\n",
       " 'updated_at': '2018-01-06T00:33:15Z',\n",
       " 'virtual_size': None,\n",
       " 'visibility': 'public'}"
      ]
     },
     "execution_count": 44,
     "metadata": {},
     "output_type": "execute_result"
    }
   ],
   "source": [
    "glance.image_properties(auth['tacc'], '97f5871b-43e7-4be5-8554-a84c955abb35', replace={\n",
    "    'name': 'CC-Ubuntu16.04-CUDA8-20171110',\n",
    "})"
   ]
  },
  {
   "cell_type": "code",
   "execution_count": 46,
   "metadata": {
    "collapsed": false,
    "deletable": true,
    "editable": true
   },
   "outputs": [
    {
     "data": {
      "text/plain": [
       "{'build_os': 'ubuntu-xenial',\n",
       " 'build_os_base_image_revision': '20180105',\n",
       " 'build_repo': 'https://github.com/ChameleonCloud/CC-Ubuntu16.04',\n",
       " 'build_repo_commit': 'ea2b696cc7ddc7357f0a95a460c129d4ef553ce7',\n",
       " 'build_tag': 'jenkins-cc-xenial-cuda-builder-14',\n",
       " 'build_variant': 'gpu',\n",
       " 'checksum': 'e9df7f321e391c124b9df11949d8c39e',\n",
       " 'container_format': 'bare',\n",
       " 'created_at': '2018-01-06T00:31:17Z',\n",
       " 'disk_format': 'qcow2',\n",
       " 'file': '/v2/images/f5f5ef2c-98f8-41ec-8c18-475e0bdbd5e6/file',\n",
       " 'id': 'f5f5ef2c-98f8-41ec-8c18-475e0bdbd5e6',\n",
       " 'min_disk': 0,\n",
       " 'min_ram': 0,\n",
       " 'name': 'CC-Ubuntu16.04-CUDA8',\n",
       " 'owner': '570aad8999f7499db99eae22fe9b29bb',\n",
       " 'protected': False,\n",
       " 'schema': '/v2/schemas/image',\n",
       " 'self': '/v2/images/f5f5ef2c-98f8-41ec-8c18-475e0bdbd5e6',\n",
       " 'size': 2379240960,\n",
       " 'status': 'active',\n",
       " 'tags': [],\n",
       " 'updated_at': '2018-01-06T00:33:59Z',\n",
       " 'virtual_size': None,\n",
       " 'visibility': 'public'}"
      ]
     },
     "execution_count": 46,
     "metadata": {},
     "output_type": "execute_result"
    }
   ],
   "source": [
    "glance.image_properties(auth['tacc'], 'f5f5ef2c-98f8-41ec-8c18-475e0bdbd5e6', replace={\n",
    "    'name': 'CC-Ubuntu16.04-CUDA8',\n",
    "    'visibility': 'public',\n",
    "})"
   ]
  },
  {
   "cell_type": "code",
   "execution_count": null,
   "metadata": {
    "collapsed": true,
    "deletable": true,
    "editable": true
   },
   "outputs": [],
   "source": []
  }
 ],
 "metadata": {
  "kernelspec": {
   "display_name": "OS Clients (3.6)",
   "language": "python",
   "name": "os36"
  },
  "language_info": {
   "codemirror_mode": {
    "name": "ipython",
    "version": 3
   },
   "file_extension": ".py",
   "mimetype": "text/x-python",
   "name": "python",
   "nbconvert_exporter": "python",
   "pygments_lexer": "ipython3",
   "version": "3.6.1"
  }
 },
 "nbformat": 4,
 "nbformat_minor": 2
}
